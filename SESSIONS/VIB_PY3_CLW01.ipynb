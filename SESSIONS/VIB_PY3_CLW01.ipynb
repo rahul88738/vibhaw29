{
  "nbformat": 4,
  "nbformat_minor": 0,
  "metadata": {
    "colab": {
      "name": "VIB_PY3_CLW01.ipynb",
      "version": "0.3.2",
      "provenance": [],
      "collapsed_sections": []
    },
    "kernelspec": {
      "name": "python3",
      "display_name": "Python 3"
    }
  },
  "cells": [
    {
      "metadata": {
        "id": "GdMHqaiJ9I27",
        "colab_type": "text"
      },
      "cell_type": "markdown",
      "source": [
        "Take away from last session   pip install pandas in normal python install but in google collab we need to add !"
      ]
    },
    {
      "metadata": {
        "id": "oFNS79iG9GPF",
        "colab_type": "code",
        "colab": {
          "base_uri": "https://localhost:8080/",
          "height": 111
        },
        "outputId": "40c480ec-d655-4a45-af1d-6a042574318b"
      },
      "cell_type": "code",
      "source": [
        "!pip install pandas"
      ],
      "execution_count": 2,
      "outputs": [
        {
          "output_type": "stream",
          "text": [
            "Requirement already satisfied: pandas in /usr/local/lib/python3.6/dist-packages (0.22.0)\n",
            "Requirement already satisfied: python-dateutil>=2 in /usr/local/lib/python3.6/dist-packages (from pandas) (2.5.3)\n",
            "Requirement already satisfied: numpy>=1.9.0 in /usr/local/lib/python3.6/dist-packages (from pandas) (1.14.6)\n",
            "Requirement already satisfied: pytz>=2011k in /usr/local/lib/python3.6/dist-packages (from pandas) (2018.7)\n",
            "Requirement already satisfied: six>=1.5 in /usr/local/lib/python3.6/dist-packages (from python-dateutil>=2->pandas) (1.11.0)\n"
          ],
          "name": "stdout"
        }
      ]
    },
    {
      "metadata": {
        "id": "iTWEf30n9jgR",
        "colab_type": "text"
      },
      "cell_type": "markdown",
      "source": [
        "In Todays session : Get yourself started with Basic Types \n",
        "a) **Numerical types**"
      ]
    },
    {
      "metadata": {
        "id": "lCW_Srwu-Ms1",
        "colab_type": "code",
        "colab": {
          "base_uri": "https://localhost:8080/",
          "height": 36
        },
        "outputId": "0a6a91ed-e32e-485e-b985-caa950aad188"
      },
      "cell_type": "code",
      "source": [
        "1 +1 "
      ],
      "execution_count": 3,
      "outputs": [
        {
          "output_type": "execute_result",
          "data": {
            "text/plain": [
              "2"
            ]
          },
          "metadata": {
            "tags": []
          },
          "execution_count": 3
        }
      ]
    },
    {
      "metadata": {
        "id": "HF5qEg6R-S8X",
        "colab_type": "code",
        "colab": {
          "base_uri": "https://localhost:8080/",
          "height": 36
        },
        "outputId": "d3c282c1-1191-437b-ef1d-db20f60eb378"
      },
      "cell_type": "code",
      "source": [
        "a = 4\n",
        "type(a)"
      ],
      "execution_count": 4,
      "outputs": [
        {
          "output_type": "execute_result",
          "data": {
            "text/plain": [
              "int"
            ]
          },
          "metadata": {
            "tags": []
          },
          "execution_count": 4
        }
      ]
    },
    {
      "metadata": {
        "id": "uwq1o-uo-ZAJ",
        "colab_type": "code",
        "colab": {
          "base_uri": "https://localhost:8080/",
          "height": 36
        },
        "outputId": "4489149a-fc4d-44d7-e039-2efeda444065"
      },
      "cell_type": "code",
      "source": [
        "c = 2.1\n",
        "type(c)"
      ],
      "execution_count": 5,
      "outputs": [
        {
          "output_type": "execute_result",
          "data": {
            "text/plain": [
              "float"
            ]
          },
          "metadata": {
            "tags": []
          },
          "execution_count": 5
        }
      ]
    },
    {
      "metadata": {
        "id": "M6McInJ4-daC",
        "colab_type": "code",
        "colab": {
          "base_uri": "https://localhost:8080/",
          "height": 74
        },
        "outputId": "12a615a3-3d14-4940-f371-9bb5a8cef03e"
      },
      "cell_type": "code",
      "source": [
        "b = 1.5 + 6.1j\n",
        "print(type(b))\n",
        "print(b.real)\n",
        "print(b.imag)"
      ],
      "execution_count": 9,
      "outputs": [
        {
          "output_type": "stream",
          "text": [
            "<class 'complex'>\n",
            "1.5\n",
            "6.1\n"
          ],
          "name": "stdout"
        }
      ]
    },
    {
      "metadata": {
        "id": "oOCPuhoV-w4j",
        "colab_type": "code",
        "colab": {
          "base_uri": "https://localhost:8080/",
          "height": 36
        },
        "outputId": "3b2dca3f-6858-43d9-873a-a686ce3556bb"
      },
      "cell_type": "code",
      "source": [
        "3 >4 \n",
        "test = 3 >4 \n",
        "test"
      ],
      "execution_count": 10,
      "outputs": [
        {
          "output_type": "execute_result",
          "data": {
            "text/plain": [
              "False"
            ]
          },
          "metadata": {
            "tags": []
          },
          "execution_count": 10
        }
      ]
    },
    {
      "metadata": {
        "id": "O3DA39hZ-4hm",
        "colab_type": "code",
        "colab": {
          "base_uri": "https://localhost:8080/",
          "height": 36
        },
        "outputId": "96d35eac-d7fb-42ae-e651-1168baa35f41"
      },
      "cell_type": "code",
      "source": [
        "type(test)"
      ],
      "execution_count": 11,
      "outputs": [
        {
          "output_type": "execute_result",
          "data": {
            "text/plain": [
              "bool"
            ]
          },
          "metadata": {
            "tags": []
          },
          "execution_count": 11
        }
      ]
    },
    {
      "metadata": {
        "id": "kNBRmyBW-9F4",
        "colab_type": "code",
        "colab": {
          "base_uri": "https://localhost:8080/",
          "height": 92
        },
        "outputId": "8015dd3e-b8c2-4943-c830-4bed428cc3d1"
      },
      "cell_type": "code",
      "source": [
        "print(7 *3 )\n",
        "print(2 **10)\n",
        "print(8%3)\n",
        "print(float(1))"
      ],
      "execution_count": 13,
      "outputs": [
        {
          "output_type": "stream",
          "text": [
            "21\n",
            "1024\n",
            "2\n",
            "1.0\n"
          ],
          "name": "stdout"
        }
      ]
    },
    {
      "metadata": {
        "id": "bvUvsLGP_YOQ",
        "colab_type": "text"
      },
      "cell_type": "markdown",
      "source": [
        "Type conversion or Casting "
      ]
    },
    {
      "metadata": {
        "id": "NDvaYimC_Qwn",
        "colab_type": "code",
        "colab": {
          "base_uri": "https://localhost:8080/",
          "height": 55
        },
        "outputId": "d6e02371-25ac-4f19-a166-eb7de27c4a92"
      },
      "cell_type": "code",
      "source": [
        "y =1 \n",
        "print(type(y))\n",
        "print(type(float(y)))"
      ],
      "execution_count": 14,
      "outputs": [
        {
          "output_type": "stream",
          "text": [
            "<class 'int'>\n",
            "<class 'float'>\n"
          ],
          "name": "stdout"
        }
      ]
    },
    {
      "metadata": {
        "id": "c9gYihii8jSu",
        "colab_type": "code",
        "colab": {
          "base_uri": "https://localhost:8080/",
          "height": 36
        },
        "outputId": "260603ab-5ff2-4658-c04a-bf77776a2719"
      },
      "cell_type": "code",
      "source": [
        "a = 3/2\n",
        "print(a)"
      ],
      "execution_count": 1,
      "outputs": [
        {
          "output_type": "stream",
          "text": [
            "1.5\n"
          ],
          "name": "stdout"
        }
      ]
    },
    {
      "metadata": {
        "id": "WJgQTEkH_iU0",
        "colab_type": "text"
      },
      "cell_type": "markdown",
      "source": [
        "**CONTAINERS**\n",
        "*LIST*\n",
        "A list is an ordered collection of objects, that may have different types. Start with 0 and goes on"
      ]
    },
    {
      "metadata": {
        "id": "KbXDatEy_ghL",
        "colab_type": "code",
        "colab": {
          "base_uri": "https://localhost:8080/",
          "height": 36
        },
        "outputId": "87bbae88-3daa-4203-b794-8336742b7ac0"
      },
      "cell_type": "code",
      "source": [
        "l = ['red', 'blue', 'green', 'black', 'white']\n",
        "type(l)"
      ],
      "execution_count": 27,
      "outputs": [
        {
          "output_type": "execute_result",
          "data": {
            "text/plain": [
              "list"
            ]
          },
          "metadata": {
            "tags": []
          },
          "execution_count": 27
        }
      ]
    },
    {
      "metadata": {
        "id": "dL9mdohB_yRV",
        "colab_type": "code",
        "colab": {
          "base_uri": "https://localhost:8080/",
          "height": 36
        },
        "outputId": "1647f057-c546-43b1-fbfe-7d602e41f19e"
      },
      "cell_type": "code",
      "source": [
        "l[2]"
      ],
      "execution_count": 16,
      "outputs": [
        {
          "output_type": "execute_result",
          "data": {
            "text/plain": [
              "'green'"
            ]
          },
          "metadata": {
            "tags": []
          },
          "execution_count": 16
        }
      ]
    },
    {
      "metadata": {
        "id": "d6XZvoU5B3BY",
        "colab_type": "text"
      },
      "cell_type": "markdown",
      "source": [
        "*Counting from the end with negative indices:*"
      ]
    },
    {
      "metadata": {
        "id": "w5BuemUQB2qh",
        "colab_type": "code",
        "colab": {
          "base_uri": "https://localhost:8080/",
          "height": 36
        },
        "outputId": "bb7f5ad1-dbf7-4699-fc55-767be860a4e3"
      },
      "cell_type": "code",
      "source": [
        "l[-1]"
      ],
      "execution_count": 17,
      "outputs": [
        {
          "output_type": "execute_result",
          "data": {
            "text/plain": [
              "'white'"
            ]
          },
          "metadata": {
            "tags": []
          },
          "execution_count": 17
        }
      ]
    },
    {
      "metadata": {
        "id": "jVXhfhNMB-hc",
        "colab_type": "code",
        "colab": {
          "base_uri": "https://localhost:8080/",
          "height": 36
        },
        "outputId": "e79823e6-fb34-4fd1-f22d-558106dcf2e0"
      },
      "cell_type": "code",
      "source": [
        "l[-2]"
      ],
      "execution_count": 18,
      "outputs": [
        {
          "output_type": "execute_result",
          "data": {
            "text/plain": [
              "'black'"
            ]
          },
          "metadata": {
            "tags": []
          },
          "execution_count": 18
        }
      ]
    },
    {
      "metadata": {
        "id": "gLTeaDIyCE44",
        "colab_type": "text"
      },
      "cell_type": "markdown",
      "source": [
        "*Slicing: obtaining sublists of regularly-spaced elements:*  **ing syntax: l[start:stop:stride]**  Lists are mutable objects and can be modified:"
      ]
    },
    {
      "metadata": {
        "id": "91dOwDwDCI9Y",
        "colab_type": "code",
        "colab": {
          "base_uri": "https://localhost:8080/",
          "height": 36
        },
        "outputId": "4dcfb247-019a-497f-caaa-0e1846e05c4c"
      },
      "cell_type": "code",
      "source": [
        "l[2:4]"
      ],
      "execution_count": 19,
      "outputs": [
        {
          "output_type": "execute_result",
          "data": {
            "text/plain": [
              "['green', 'black']"
            ]
          },
          "metadata": {
            "tags": []
          },
          "execution_count": 19
        }
      ]
    },
    {
      "metadata": {
        "id": "0XAJTi1bCV7N",
        "colab_type": "code",
        "colab": {
          "base_uri": "https://localhost:8080/",
          "height": 36
        },
        "outputId": "770122f7-b4fd-4799-ab7b-fab12db417b1"
      },
      "cell_type": "code",
      "source": [
        "l[3:]"
      ],
      "execution_count": 20,
      "outputs": [
        {
          "output_type": "execute_result",
          "data": {
            "text/plain": [
              "['black', 'white']"
            ]
          },
          "metadata": {
            "tags": []
          },
          "execution_count": 20
        }
      ]
    },
    {
      "metadata": {
        "id": "t0EA2UVXCY4e",
        "colab_type": "code",
        "colab": {
          "base_uri": "https://localhost:8080/",
          "height": 36
        },
        "outputId": "0d952e07-4ccf-4183-9aec-0ad7e27e00ef"
      },
      "cell_type": "code",
      "source": [
        "l[:3]"
      ],
      "execution_count": 21,
      "outputs": [
        {
          "output_type": "execute_result",
          "data": {
            "text/plain": [
              "['red', 'blue', 'green']"
            ]
          },
          "metadata": {
            "tags": []
          },
          "execution_count": 21
        }
      ]
    },
    {
      "metadata": {
        "id": "rG6c2I5HCcJY",
        "colab_type": "code",
        "colab": {
          "base_uri": "https://localhost:8080/",
          "height": 36
        },
        "outputId": "9fced610-1c60-43b6-adb5-9391fbd3377a"
      },
      "cell_type": "code",
      "source": [
        "l[::2]"
      ],
      "execution_count": 22,
      "outputs": [
        {
          "output_type": "execute_result",
          "data": {
            "text/plain": [
              "['red', 'green', 'white']"
            ]
          },
          "metadata": {
            "tags": []
          },
          "execution_count": 22
        }
      ]
    },
    {
      "metadata": {
        "id": "W3oeyfbxCi_D",
        "colab_type": "code",
        "colab": {
          "base_uri": "https://localhost:8080/",
          "height": 55
        },
        "outputId": "ac73af0b-0563-49a7-d7a9-2786e78b63b6"
      },
      "cell_type": "code",
      "source": [
        "print(l)\n",
        "l[0] = 'yellow'\n",
        "print(l)"
      ],
      "execution_count": 28,
      "outputs": [
        {
          "output_type": "stream",
          "text": [
            "['red', 'blue', 'green', 'black', 'white']\n",
            "['yellow', 'blue', 'green', 'black', 'white']\n"
          ],
          "name": "stdout"
        }
      ]
    },
    {
      "metadata": {
        "id": "Vwlh8aYvCy26",
        "colab_type": "code",
        "colab": {
          "base_uri": "https://localhost:8080/",
          "height": 36
        },
        "outputId": "18c857e8-c2bd-48d5-929c-3dcea32844a2"
      },
      "cell_type": "code",
      "source": [
        "l[2:4] = ['gray', 'purple']\n",
        "print(l)"
      ],
      "execution_count": 31,
      "outputs": [
        {
          "output_type": "stream",
          "text": [
            "['yellow', 'blue', 'gray', 'purple', 'white']\n"
          ],
          "name": "stdout"
        }
      ]
    },
    {
      "metadata": {
        "id": "02-AdLFIC6Nv",
        "colab_type": "code",
        "colab": {
          "base_uri": "https://localhost:8080/",
          "height": 36
        },
        "outputId": "27f24d03-411c-45fa-84ba-7853e346d5b5"
      },
      "cell_type": "code",
      "source": [
        "u = [3, -200, 'hello']  #list can have differnt data type\n",
        "print(u)"
      ],
      "execution_count": 33,
      "outputs": [
        {
          "output_type": "stream",
          "text": [
            "[3, -200, 'hello']\n"
          ],
          "name": "stdout"
        }
      ]
    },
    {
      "metadata": {
        "id": "IVaFq7BPDJeC",
        "colab_type": "text"
      },
      "cell_type": "markdown",
      "source": [
        "Add and remove elements:more efficent way"
      ]
    },
    {
      "metadata": {
        "id": "KsFjEpy2DJLE",
        "colab_type": "code",
        "colab": {
          "base_uri": "https://localhost:8080/",
          "height": 36
        },
        "outputId": "3aca3e12-3f54-43c5-bfb4-782c065e5a78"
      },
      "cell_type": "code",
      "source": [
        "L = ['red', 'blue', 'green', 'black', 'white']\n",
        "L.append('pink')\n",
        "L"
      ],
      "execution_count": 41,
      "outputs": [
        {
          "output_type": "execute_result",
          "data": {
            "text/plain": [
              "['red', 'blue', 'green', 'black', 'white', 'pink']"
            ]
          },
          "metadata": {
            "tags": []
          },
          "execution_count": 41
        }
      ]
    },
    {
      "metadata": {
        "id": "1fxBYIMrDley",
        "colab_type": "code",
        "colab": {
          "base_uri": "https://localhost:8080/",
          "height": 36
        },
        "outputId": "22c2b378-1189-41f0-c718-783cbfa53831"
      },
      "cell_type": "code",
      "source": [
        "L.pop()"
      ],
      "execution_count": 35,
      "outputs": [
        {
          "output_type": "execute_result",
          "data": {
            "text/plain": [
              "'pink'"
            ]
          },
          "metadata": {
            "tags": []
          },
          "execution_count": 35
        }
      ]
    },
    {
      "metadata": {
        "id": "jwnJbDMBDoxF",
        "colab_type": "code",
        "colab": {
          "base_uri": "https://localhost:8080/",
          "height": 36
        },
        "outputId": "bbab9213-2db4-45bc-b34a-48804855a804"
      },
      "cell_type": "code",
      "source": [
        "L"
      ],
      "execution_count": 42,
      "outputs": [
        {
          "output_type": "execute_result",
          "data": {
            "text/plain": [
              "['red', 'blue', 'green', 'black', 'white', 'pink']"
            ]
          },
          "metadata": {
            "tags": []
          },
          "execution_count": 42
        }
      ]
    },
    {
      "metadata": {
        "id": "1vlS_nZVDsn_",
        "colab_type": "code",
        "colab": {
          "base_uri": "https://localhost:8080/",
          "height": 36
        },
        "outputId": "27d43d3f-b86f-4986-ef30-6d73991a32b7"
      },
      "cell_type": "code",
      "source": [
        "L.extend(['pink', 'purple'])\n",
        "L"
      ],
      "execution_count": 43,
      "outputs": [
        {
          "output_type": "execute_result",
          "data": {
            "text/plain": [
              "['red', 'blue', 'green', 'black', 'white', 'pink', 'pink', 'purple']"
            ]
          },
          "metadata": {
            "tags": []
          },
          "execution_count": 43
        }
      ]
    },
    {
      "metadata": {
        "id": "QZQhsoSsD_wu",
        "colab_type": "code",
        "colab": {
          "base_uri": "https://localhost:8080/",
          "height": 55
        },
        "outputId": "90edcc90-c421-4c79-b3bb-8cff654873a4"
      },
      "cell_type": "code",
      "source": [
        "print(L)\n",
        "L = L[:-2]\n",
        "L"
      ],
      "execution_count": 44,
      "outputs": [
        {
          "output_type": "stream",
          "text": [
            "['red', 'blue', 'green', 'black', 'white', 'pink', 'pink', 'purple']\n"
          ],
          "name": "stdout"
        },
        {
          "output_type": "execute_result",
          "data": {
            "text/plain": [
              "['red', 'blue', 'green', 'black', 'white', 'pink']"
            ]
          },
          "metadata": {
            "tags": []
          },
          "execution_count": 44
        }
      ]
    },
    {
      "metadata": {
        "id": "jNPK_rUeEZMU",
        "colab_type": "text"
      },
      "cell_type": "markdown",
      "source": [
        "Reverse:"
      ]
    },
    {
      "metadata": {
        "id": "gPdFNZ0wEbLj",
        "colab_type": "code",
        "colab": {
          "base_uri": "https://localhost:8080/",
          "height": 36
        },
        "outputId": "02181499-a939-4a4b-a2b2-d729af97b403"
      },
      "cell_type": "code",
      "source": [
        "r = L[::-1]\n",
        "r"
      ],
      "execution_count": 45,
      "outputs": [
        {
          "output_type": "execute_result",
          "data": {
            "text/plain": [
              "['pink', 'white', 'black', 'green', 'blue', 'red']"
            ]
          },
          "metadata": {
            "tags": []
          },
          "execution_count": 45
        }
      ]
    },
    {
      "metadata": {
        "id": "aQzi0eY1EieF",
        "colab_type": "code",
        "colab": {
          "base_uri": "https://localhost:8080/",
          "height": 36
        },
        "outputId": "69442ac7-0e4d-48a7-ba44-ecf7ebb8aba7"
      },
      "cell_type": "code",
      "source": [
        "r2 = list(L)\n",
        "r2"
      ],
      "execution_count": 50,
      "outputs": [
        {
          "output_type": "execute_result",
          "data": {
            "text/plain": [
              "['red', 'blue', 'green', 'black', 'white', 'pink']"
            ]
          },
          "metadata": {
            "tags": []
          },
          "execution_count": 50
        }
      ]
    },
    {
      "metadata": {
        "id": "8JY96_2cEnat",
        "colab_type": "code",
        "colab": {
          "base_uri": "https://localhost:8080/",
          "height": 36
        },
        "outputId": "e7eedd49-e51e-45ed-d541-fbf0fd1f2251"
      },
      "cell_type": "code",
      "source": [
        "r2.reverse()\n",
        "r2"
      ],
      "execution_count": 54,
      "outputs": [
        {
          "output_type": "execute_result",
          "data": {
            "text/plain": [
              "['red', 'blue', 'green', 'black', 'white', 'pink']"
            ]
          },
          "metadata": {
            "tags": []
          },
          "execution_count": 54
        }
      ]
    },
    {
      "metadata": {
        "id": "vGlTcD8FE0cW",
        "colab_type": "code",
        "colab": {
          "base_uri": "https://localhost:8080/",
          "height": 36
        },
        "outputId": "2ebff76c-7b3a-4e8a-cb79-60b14f35be18"
      },
      "cell_type": "code",
      "source": [
        "print(sorted(r))  #newobject\n"
      ],
      "execution_count": 59,
      "outputs": [
        {
          "output_type": "stream",
          "text": [
            "['black', 'blue', 'green', 'pink', 'red', 'white']\n"
          ],
          "name": "stdout"
        }
      ]
    },
    {
      "metadata": {
        "id": "Io4gPE6KGYKX",
        "colab_type": "code",
        "colab": {
          "base_uri": "https://localhost:8080/",
          "height": 36
        },
        "outputId": "b2648fcb-9ed4-424c-aac5-b1adb8b238d6"
      },
      "cell_type": "code",
      "source": [
        "r.sort()  #inplace\n",
        "r"
      ],
      "execution_count": 60,
      "outputs": [
        {
          "output_type": "execute_result",
          "data": {
            "text/plain": [
              "['black', 'blue', 'green', 'pink', 'red', 'white']"
            ]
          },
          "metadata": {
            "tags": []
          },
          "execution_count": 60
        }
      ]
    },
    {
      "metadata": {
        "id": "wXcOnAlQHxct",
        "colab_type": "text"
      },
      "cell_type": "markdown",
      "source": [
        "*Sting handleing *"
      ]
    },
    {
      "metadata": {
        "id": "suczP9SoH01P",
        "colab_type": "code",
        "colab": {
          "base_uri": "https://localhost:8080/",
          "height": 36
        },
        "outputId": "1c4fc2a3-8cd7-4919-b7bc-c93e139e9895"
      },
      "cell_type": "code",
      "source": [
        "a = \"hello, world!\"\n",
        "a"
      ],
      "execution_count": 61,
      "outputs": [
        {
          "output_type": "execute_result",
          "data": {
            "text/plain": [
              "'hello, world!'"
            ]
          },
          "metadata": {
            "tags": []
          },
          "execution_count": 61
        }
      ]
    },
    {
      "metadata": {
        "id": "100zJErHH0x7",
        "colab_type": "code",
        "colab": {
          "base_uri": "https://localhost:8080/",
          "height": 36
        },
        "outputId": "ada7fe8a-c6b3-438f-f161-eccb051d581c"
      },
      "cell_type": "code",
      "source": [
        "a[3:6]"
      ],
      "execution_count": 62,
      "outputs": [
        {
          "output_type": "execute_result",
          "data": {
            "text/plain": [
              "'lo,'"
            ]
          },
          "metadata": {
            "tags": []
          },
          "execution_count": 62
        }
      ]
    },
    {
      "metadata": {
        "id": "_zSTJ9HiH80-",
        "colab_type": "code",
        "colab": {
          "base_uri": "https://localhost:8080/",
          "height": 36
        },
        "outputId": "39c58fc7-c51e-4282-b0e5-78736352a248"
      },
      "cell_type": "code",
      "source": [
        "a[2:10:2]"
      ],
      "execution_count": 63,
      "outputs": [
        {
          "output_type": "execute_result",
          "data": {
            "text/plain": [
              "'lo o'"
            ]
          },
          "metadata": {
            "tags": []
          },
          "execution_count": 63
        }
      ]
    },
    {
      "metadata": {
        "id": "Mh_TDcLYID1o",
        "colab_type": "code",
        "colab": {
          "base_uri": "https://localhost:8080/",
          "height": 176
        },
        "outputId": "91bb1121-fb5f-4820-c866-55641c4292b3"
      },
      "cell_type": "code",
      "source": [
        "a[2] = 'z'  #A string is an immutable object and it is not possible to modify its contents"
      ],
      "execution_count": 64,
      "outputs": [
        {
          "output_type": "error",
          "ename": "TypeError",
          "evalue": "ignored",
          "traceback": [
            "\u001b[0;31m---------------------------------------------------------------------------\u001b[0m",
            "\u001b[0;31mTypeError\u001b[0m                                 Traceback (most recent call last)",
            "\u001b[0;32m<ipython-input-64-dbf0dc8d1c39>\u001b[0m in \u001b[0;36m<module>\u001b[0;34m()\u001b[0m\n\u001b[0;32m----> 1\u001b[0;31m \u001b[0ma\u001b[0m\u001b[0;34m[\u001b[0m\u001b[0;36m2\u001b[0m\u001b[0;34m]\u001b[0m \u001b[0;34m=\u001b[0m \u001b[0;34m'z'\u001b[0m  \u001b[0;31m#A string is an immutable object and it is not possible to modify its contents\u001b[0m\u001b[0;34m\u001b[0m\u001b[0;34m\u001b[0m\u001b[0m\n\u001b[0m",
            "\u001b[0;31mTypeError\u001b[0m: 'str' object does not support item assignment"
          ]
        }
      ]
    },
    {
      "metadata": {
        "id": "HIBAho2xIHVv",
        "colab_type": "code",
        "colab": {
          "base_uri": "https://localhost:8080/",
          "height": 36
        },
        "outputId": "5aa3cdc8-c5ee-491e-d346-a5cecc55686a"
      },
      "cell_type": "code",
      "source": [
        "a.replace('l', 'z', 1)\n"
      ],
      "execution_count": 66,
      "outputs": [
        {
          "output_type": "execute_result",
          "data": {
            "text/plain": [
              "'hezlo, world!'"
            ]
          },
          "metadata": {
            "tags": []
          },
          "execution_count": 66
        }
      ]
    },
    {
      "metadata": {
        "id": "4LL2lVeQIUnG",
        "colab_type": "code",
        "colab": {
          "base_uri": "https://localhost:8080/",
          "height": 36
        },
        "outputId": "4b6d9a7a-c177-4b12-98f6-805b9c585e4a"
      },
      "cell_type": "code",
      "source": [
        "#String formatting:\n",
        "'An integer: %i; a float: %f; another string: %s' % (1, 0.1, 'string')"
      ],
      "execution_count": 67,
      "outputs": [
        {
          "output_type": "execute_result",
          "data": {
            "text/plain": [
              "'An integer: 1; a float: 0.100000; another string: string'"
            ]
          },
          "metadata": {
            "tags": []
          },
          "execution_count": 67
        }
      ]
    },
    {
      "metadata": {
        "id": "haYJYoz2Iauw",
        "colab_type": "code",
        "colab": {
          "base_uri": "https://localhost:8080/",
          "height": 36
        },
        "outputId": "02e30b6b-3868-40f1-9521-4c9ae1a5c63e"
      },
      "cell_type": "code",
      "source": [
        "i = 102\n",
        "filename = 'processing_of_dataset_%d.txt' % i\n",
        "filename"
      ],
      "execution_count": 68,
      "outputs": [
        {
          "output_type": "execute_result",
          "data": {
            "text/plain": [
              "'processing_of_dataset_102.txt'"
            ]
          },
          "metadata": {
            "tags": []
          },
          "execution_count": 68
        }
      ]
    },
    {
      "metadata": {
        "id": "ALoZjYSyIg0a",
        "colab_type": "text"
      },
      "cell_type": "markdown",
      "source": [
        "**Dictionaries**"
      ]
    },
    {
      "metadata": {
        "id": "DFQq91LYIlAF",
        "colab_type": "code",
        "colab": {
          "base_uri": "https://localhost:8080/",
          "height": 36
        },
        "outputId": "9d4eb99b-2c2b-462e-dea5-d277ea91d28e"
      },
      "cell_type": "code",
      "source": [
        "tel = {'vibhaw': 5752, 'rajan': 5578}\n",
        "tel"
      ],
      "execution_count": 71,
      "outputs": [
        {
          "output_type": "execute_result",
          "data": {
            "text/plain": [
              "{'rajan': 5578, 'vibhaw': 5752}"
            ]
          },
          "metadata": {
            "tags": []
          },
          "execution_count": 71
        }
      ]
    },
    {
      "metadata": {
        "id": "ql77VVoyIwGP",
        "colab_type": "code",
        "colab": {
          "base_uri": "https://localhost:8080/",
          "height": 36
        },
        "outputId": "f3aa0868-3880-4e96-cef4-d2103cd2862c"
      },
      "cell_type": "code",
      "source": [
        "tel['prakash'] = 5915\n",
        "tel"
      ],
      "execution_count": 73,
      "outputs": [
        {
          "output_type": "execute_result",
          "data": {
            "text/plain": [
              "{'prakash': 5915, 'rajan': 5578, 'vibhaw': 5752}"
            ]
          },
          "metadata": {
            "tags": []
          },
          "execution_count": 73
        }
      ]
    },
    {
      "metadata": {
        "id": "vO7kMwlcI3Qq",
        "colab_type": "code",
        "colab": {
          "base_uri": "https://localhost:8080/",
          "height": 36
        },
        "outputId": "950b8ea5-8c51-40cc-9656-93e095d0a2bb"
      },
      "cell_type": "code",
      "source": [
        "tel['vibhaw']"
      ],
      "execution_count": 74,
      "outputs": [
        {
          "output_type": "execute_result",
          "data": {
            "text/plain": [
              "5752"
            ]
          },
          "metadata": {
            "tags": []
          },
          "execution_count": 74
        }
      ]
    },
    {
      "metadata": {
        "id": "8ZFRq5dfI7mN",
        "colab_type": "code",
        "colab": {
          "base_uri": "https://localhost:8080/",
          "height": 36
        },
        "outputId": "4eaaf9d1-32df-43db-a3fc-adc13bf01892"
      },
      "cell_type": "code",
      "source": [
        "tel.keys()"
      ],
      "execution_count": 75,
      "outputs": [
        {
          "output_type": "execute_result",
          "data": {
            "text/plain": [
              "dict_keys(['vibhaw', 'rajan', 'prakash'])"
            ]
          },
          "metadata": {
            "tags": []
          },
          "execution_count": 75
        }
      ]
    },
    {
      "metadata": {
        "id": "Y8Kxq3mII82Z",
        "colab_type": "code",
        "colab": {
          "base_uri": "https://localhost:8080/",
          "height": 36
        },
        "outputId": "1c62a6da-c75b-43be-e57c-cdcf0582f67d"
      },
      "cell_type": "code",
      "source": [
        "tel.values()"
      ],
      "execution_count": 77,
      "outputs": [
        {
          "output_type": "execute_result",
          "data": {
            "text/plain": [
              "dict_values([5752, 5578, 5915])"
            ]
          },
          "metadata": {
            "tags": []
          },
          "execution_count": 77
        }
      ]
    },
    {
      "metadata": {
        "id": "S-z3ELBgJBxI",
        "colab_type": "code",
        "colab": {
          "base_uri": "https://localhost:8080/",
          "height": 36
        },
        "outputId": "650710a9-793c-4d64-fe09-351d1a4cc7a0"
      },
      "cell_type": "code",
      "source": [
        "'francis' in tel"
      ],
      "execution_count": 78,
      "outputs": [
        {
          "output_type": "execute_result",
          "data": {
            "text/plain": [
              "False"
            ]
          },
          "metadata": {
            "tags": []
          },
          "execution_count": 78
        }
      ]
    },
    {
      "metadata": {
        "id": "W6LdfOLXJEzf",
        "colab_type": "code",
        "colab": {
          "base_uri": "https://localhost:8080/",
          "height": 36
        },
        "outputId": "799aa191-9e03-4c88-dfcb-45656cf73154"
      },
      "cell_type": "code",
      "source": [
        "'rajan' in tel"
      ],
      "execution_count": 79,
      "outputs": [
        {
          "output_type": "execute_result",
          "data": {
            "text/plain": [
              "True"
            ]
          },
          "metadata": {
            "tags": []
          },
          "execution_count": 79
        }
      ]
    },
    {
      "metadata": {
        "id": "s0CP5SJJJbhr",
        "colab_type": "text"
      },
      "cell_type": "markdown",
      "source": [
        "**Tuples**  Tuples are basically immutable lists.  elements of a tuple are written between parentheses, or just separated\n",
        "by commas"
      ]
    },
    {
      "metadata": {
        "id": "UEmkYU8dJdGW",
        "colab_type": "code",
        "colab": {
          "base_uri": "https://localhost:8080/",
          "height": 36
        },
        "outputId": "6c8ef2fa-e2e2-48fe-8303-3c3b1766414a"
      },
      "cell_type": "code",
      "source": [
        "t = 12345, 54321, 'hello!'\n",
        "t"
      ],
      "execution_count": 81,
      "outputs": [
        {
          "output_type": "execute_result",
          "data": {
            "text/plain": [
              "(12345, 54321, 'hello!')"
            ]
          },
          "metadata": {
            "tags": []
          },
          "execution_count": 81
        }
      ]
    },
    {
      "metadata": {
        "id": "wap6S56aJ7gs",
        "colab_type": "code",
        "colab": {
          "base_uri": "https://localhost:8080/",
          "height": 36
        },
        "outputId": "87690724-5555-4e2e-a6e2-6f6d09329e43"
      },
      "cell_type": "code",
      "source": [
        "t[0]"
      ],
      "execution_count": 82,
      "outputs": [
        {
          "output_type": "execute_result",
          "data": {
            "text/plain": [
              "12345"
            ]
          },
          "metadata": {
            "tags": []
          },
          "execution_count": 82
        }
      ]
    },
    {
      "metadata": {
        "id": "EKJgQGbcKFKK",
        "colab_type": "code",
        "colab": {
          "base_uri": "https://localhost:8080/",
          "height": 36
        },
        "outputId": "7ab8dc1f-0730-4904-baed-0c6cff33b145"
      },
      "cell_type": "code",
      "source": [
        "t"
      ],
      "execution_count": 83,
      "outputs": [
        {
          "output_type": "execute_result",
          "data": {
            "text/plain": [
              "(12345, 54321, 'hello!')"
            ]
          },
          "metadata": {
            "tags": []
          },
          "execution_count": 83
        }
      ]
    },
    {
      "metadata": {
        "id": "uEGDmdOKKJE0",
        "colab_type": "code",
        "colab": {
          "base_uri": "https://localhost:8080/",
          "height": 36
        },
        "outputId": "ca25b10e-f167-4e8d-e645-2252f8df45d4"
      },
      "cell_type": "code",
      "source": [
        "#Sets: unordered, unique items:\n",
        "s = set(('a', 'b', 'c', 'a'))\n",
        "s"
      ],
      "execution_count": 84,
      "outputs": [
        {
          "output_type": "execute_result",
          "data": {
            "text/plain": [
              "{'a', 'b', 'c'}"
            ]
          },
          "metadata": {
            "tags": []
          },
          "execution_count": 84
        }
      ]
    },
    {
      "metadata": {
        "id": "ImEeTJ6VKMx9",
        "colab_type": "code",
        "colab": {
          "base_uri": "https://localhost:8080/",
          "height": 36
        },
        "outputId": "9584abaa-15f7-4e22-dddf-817019624e72"
      },
      "cell_type": "code",
      "source": [
        "s.difference(('a', 'b'))"
      ],
      "execution_count": 85,
      "outputs": [
        {
          "output_type": "execute_result",
          "data": {
            "text/plain": [
              "{'c'}"
            ]
          },
          "metadata": {
            "tags": []
          },
          "execution_count": 85
        }
      ]
    }
  ]
}