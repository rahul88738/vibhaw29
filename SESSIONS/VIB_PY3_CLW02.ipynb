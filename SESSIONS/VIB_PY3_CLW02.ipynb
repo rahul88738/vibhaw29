{
  "nbformat": 4,
  "nbformat_minor": 0,
  "metadata": {
    "colab": {
      "name": "VIB_PY3_CLW02.ipynb",
      "version": "0.3.2",
      "provenance": [],
      "collapsed_sections": []
    },
    "kernelspec": {
      "name": "python3",
      "display_name": "Python 3"
    }
  },
  "cells": [
    {
      "metadata": {
        "id": "aggDurC3Kl8N",
        "colab_type": "text"
      },
      "cell_type": "markdown",
      "source": [
        "**Control** **Flows**"
      ]
    },
    {
      "metadata": {
        "id": "2L7-mTjKKsij",
        "colab_type": "text"
      },
      "cell_type": "markdown",
      "source": [
        "**if/elif/else **    *be careful to respect the indentation depth **bold text**.*"
      ]
    },
    {
      "metadata": {
        "id": "mhJTtV2UKb3Q",
        "colab_type": "code",
        "colab": {
          "base_uri": "https://localhost:8080/",
          "height": 36
        },
        "outputId": "c274f447-1a58-4fe7-e343-47172d0f3310"
      },
      "cell_type": "code",
      "source": [
        "if 2**2 == 4:\n",
        "  print('Its so Obvious!')"
      ],
      "execution_count": 1,
      "outputs": [
        {
          "output_type": "stream",
          "text": [
            "Its so Obvious!\n"
          ],
          "name": "stdout"
        }
      ]
    },
    {
      "metadata": {
        "id": "gJdHIbPBLIPu",
        "colab_type": "code",
        "colab": {}
      },
      "cell_type": "code",
      "source": [
        "a = 10"
      ],
      "execution_count": 0,
      "outputs": []
    },
    {
      "metadata": {
        "id": "IJ0fVR47LLwK",
        "colab_type": "code",
        "colab": {
          "base_uri": "https://localhost:8080/",
          "height": 36
        },
        "outputId": "18f84905-3429-47e5-c03b-2845181b49ff"
      },
      "cell_type": "code",
      "source": [
        "if a == 1:\n",
        "  print(1)\n",
        "elif a == 2:\n",
        "  print(2)\n",
        "else:\n",
        "  print('A lot')"
      ],
      "execution_count": 3,
      "outputs": [
        {
          "output_type": "stream",
          "text": [
            "A lot\n"
          ],
          "name": "stdout"
        }
      ]
    },
    {
      "metadata": {
        "id": "I6QmU5-YLYmM",
        "colab_type": "text"
      },
      "cell_type": "markdown",
      "source": [
        "for/**range**"
      ]
    },
    {
      "metadata": {
        "id": "Wrl507sCLaHG",
        "colab_type": "code",
        "colab": {
          "base_uri": "https://localhost:8080/",
          "height": 36
        },
        "outputId": "cb09251f-541a-46e6-da72-bcf32cfc7080"
      },
      "cell_type": "code",
      "source": [
        "range(4)"
      ],
      "execution_count": 4,
      "outputs": [
        {
          "output_type": "execute_result",
          "data": {
            "text/plain": [
              "range(0, 4)"
            ]
          },
          "metadata": {
            "tags": []
          },
          "execution_count": 4
        }
      ]
    },
    {
      "metadata": {
        "id": "ya47WuMBLedv",
        "colab_type": "code",
        "colab": {
          "base_uri": "https://localhost:8080/",
          "height": 92
        },
        "outputId": "5ecf7aef-8468-4059-97bc-b9c5be8ceafb"
      },
      "cell_type": "code",
      "source": [
        "for i in range(4):\n",
        "  print(i)"
      ],
      "execution_count": 5,
      "outputs": [
        {
          "output_type": "stream",
          "text": [
            "0\n",
            "1\n",
            "2\n",
            "3\n"
          ],
          "name": "stdout"
        }
      ]
    },
    {
      "metadata": {
        "id": "Xgl6luy7Liq9",
        "colab_type": "code",
        "colab": {
          "base_uri": "https://localhost:8080/",
          "height": 74
        },
        "outputId": "f9ad7515-efa3-4040-e949-c52887d6bd5e"
      },
      "cell_type": "code",
      "source": [
        "for word in ('cool', 'awesome', 'crazy'):\n",
        "  print('Life is %s' % word)"
      ],
      "execution_count": 6,
      "outputs": [
        {
          "output_type": "stream",
          "text": [
            "Life is cool\n",
            "Life is awesome\n",
            "Life is crazy\n"
          ],
          "name": "stdout"
        }
      ]
    },
    {
      "metadata": {
        "id": "J0j4dPVILtuw",
        "colab_type": "code",
        "colab": {
          "base_uri": "https://localhost:8080/",
          "height": 74
        },
        "outputId": "c8af0637-ffe2-4728-c2ae-710fa0d51ff1"
      },
      "cell_type": "code",
      "source": [
        "a = [1, 0, 2, 4]\n",
        "for element in a:\n",
        "  if element == 0:\n",
        "    continue\n",
        "  print(1 / element)"
      ],
      "execution_count": 8,
      "outputs": [
        {
          "output_type": "stream",
          "text": [
            "1.0\n",
            "0.5\n",
            "0.25\n"
          ],
          "name": "stdout"
        }
      ]
    },
    {
      "metadata": {
        "id": "WgDhrk5DMI7U",
        "colab_type": "code",
        "colab": {
          "base_uri": "https://localhost:8080/",
          "height": 36
        },
        "outputId": "6e1ef311-3ea4-4f6f-a025-c31b76f78152"
      },
      "cell_type": "code",
      "source": [
        "b = [1, 2, 3]\n",
        "2 in b"
      ],
      "execution_count": 9,
      "outputs": [
        {
          "output_type": "execute_result",
          "data": {
            "text/plain": [
              "True"
            ]
          },
          "metadata": {
            "tags": []
          },
          "execution_count": 9
        }
      ]
    },
    {
      "metadata": {
        "id": "2YHGwqUdQpFc",
        "colab_type": "code",
        "colab": {
          "base_uri": "https://localhost:8080/",
          "height": 36
        },
        "outputId": "201e4311-8506-4a25-ba8f-77f3647efb14"
      },
      "cell_type": "code",
      "source": [
        "5 in b"
      ],
      "execution_count": 10,
      "outputs": [
        {
          "output_type": "execute_result",
          "data": {
            "text/plain": [
              "False"
            ]
          },
          "metadata": {
            "tags": []
          },
          "execution_count": 10
        }
      ]
    },
    {
      "metadata": {
        "id": "KRTVC2APQs9g",
        "colab_type": "code",
        "colab": {
          "base_uri": "https://localhost:8080/",
          "height": 36
        },
        "outputId": "c2cced53-5253-4e96-e0b7-eb2e140eba92"
      },
      "cell_type": "code",
      "source": [
        "1 == 1"
      ],
      "execution_count": 11,
      "outputs": [
        {
          "output_type": "execute_result",
          "data": {
            "text/plain": [
              "True"
            ]
          },
          "metadata": {
            "tags": []
          },
          "execution_count": 11
        }
      ]
    },
    {
      "metadata": {
        "id": "5JNzWk1OQw0N",
        "colab_type": "text"
      },
      "cell_type": "markdown",
      "source": [
        "Iterate over any sequence You can iterate over any sequence (string, list, keys in a dictionary, lines in a file,"
      ]
    },
    {
      "metadata": {
        "id": "hSeQ-T9sQvMc",
        "colab_type": "code",
        "colab": {
          "base_uri": "https://localhost:8080/",
          "height": 74
        },
        "outputId": "30d922ba-8644-46d0-e9cb-69f0a62fd3b9"
      },
      "cell_type": "code",
      "source": [
        "vowels = 'aeiouy'\n",
        "for i in 'powerful':\n",
        "    if i in vowels:\n",
        "      print(i)"
      ],
      "execution_count": 12,
      "outputs": [
        {
          "output_type": "stream",
          "text": [
            "o\n",
            "e\n",
            "u\n"
          ],
          "name": "stdout"
        }
      ]
    },
    {
      "metadata": {
        "id": "7dVVCepbQ-v2",
        "colab_type": "code",
        "colab": {
          "base_uri": "https://localhost:8080/",
          "height": 36
        },
        "outputId": "1c63928f-0d23-4c78-ed9e-fcd791432523"
      },
      "cell_type": "code",
      "source": [
        "message = \"Hello how are you?\"\n",
        "message.split() # returns a list"
      ],
      "execution_count": 13,
      "outputs": [
        {
          "output_type": "execute_result",
          "data": {
            "text/plain": [
              "['Hello', 'how', 'are', 'you?']"
            ]
          },
          "metadata": {
            "tags": []
          },
          "execution_count": 13
        }
      ]
    },
    {
      "metadata": {
        "id": "J9WAWMKcRDTH",
        "colab_type": "code",
        "colab": {
          "base_uri": "https://localhost:8080/",
          "height": 92
        },
        "outputId": "4afa471f-d593-418a-d78c-038826a53e5c"
      },
      "cell_type": "code",
      "source": [
        "for word in message.split():\n",
        "  print(word)"
      ],
      "execution_count": 14,
      "outputs": [
        {
          "output_type": "stream",
          "text": [
            "Hello\n",
            "how\n",
            "are\n",
            "you?\n"
          ],
          "name": "stdout"
        }
      ]
    },
    {
      "metadata": {
        "id": "bVF9uU2TRL4U",
        "colab_type": "text"
      },
      "cell_type": "markdown",
      "source": [
        "*Few languages (in particular, languages for scientific computing) allow to loop over anything but integers/\n",
        "indices. With Python it is possible to loop exactly over the objects of interest without bothering with indices\n",
        "you often don’t care about. *"
      ]
    },
    {
      "metadata": {
        "id": "s1x1nqq7RPv4",
        "colab_type": "code",
        "colab": {
          "base_uri": "https://localhost:8080/",
          "height": 92
        },
        "outputId": "731a3fda-f425-4a30-b4b7-bbece3702040"
      },
      "cell_type": "code",
      "source": [
        "#in other langugages\n",
        "words = ('cool', 'powerful', 'readable')\n",
        "print(len(words))\n",
        "for i in range(0, len(words)):\n",
        "  print((i, words[i]))"
      ],
      "execution_count": 16,
      "outputs": [
        {
          "output_type": "stream",
          "text": [
            "3\n",
            "(0, 'cool')\n",
            "(1, 'powerful')\n",
            "(2, 'readable')\n"
          ],
          "name": "stdout"
        }
      ]
    },
    {
      "metadata": {
        "id": "CG-Y3tdgRi4K",
        "colab_type": "code",
        "colab": {}
      },
      "cell_type": "code",
      "source": [
        "#in python we have enumaration"
      ],
      "execution_count": 0,
      "outputs": []
    },
    {
      "metadata": {
        "id": "9cgC8zJSRkx9",
        "colab_type": "code",
        "colab": {
          "base_uri": "https://localhost:8080/",
          "height": 74
        },
        "outputId": "8c049e74-52fd-437f-b589-d398748fa3ba"
      },
      "cell_type": "code",
      "source": [
        "for index, item in enumerate(words):\n",
        "  print((index, item))"
      ],
      "execution_count": 17,
      "outputs": [
        {
          "output_type": "stream",
          "text": [
            "(0, 'cool')\n",
            "(1, 'powerful')\n",
            "(2, 'readable')\n"
          ],
          "name": "stdout"
        }
      ]
    },
    {
      "metadata": {
        "id": "99M9RbZZRyeM",
        "colab_type": "code",
        "colab": {
          "base_uri": "https://localhost:8080/",
          "height": 74
        },
        "outputId": "1e17fc9d-b18a-4e54-cb5f-28abc69be2a7"
      },
      "cell_type": "code",
      "source": [
        "for item in enumerate(words):\n",
        "  print(item)"
      ],
      "execution_count": 19,
      "outputs": [
        {
          "output_type": "stream",
          "text": [
            "(0, 'cool')\n",
            "(1, 'powerful')\n",
            "(2, 'readable')\n"
          ],
          "name": "stdout"
        }
      ]
    },
    {
      "metadata": {
        "id": "8jWN6cILSAqq",
        "colab_type": "text"
      },
      "cell_type": "markdown",
      "source": [
        "**Looping over a** **dictionary**"
      ]
    },
    {
      "metadata": {
        "id": "bGFKUiCvSCt9",
        "colab_type": "code",
        "colab": {
          "base_uri": "https://localhost:8080/",
          "height": 74
        },
        "outputId": "203ccde1-168b-41f4-d894-3c5807f5e023"
      },
      "cell_type": "code",
      "source": [
        "d = {'a': 1, 'b':1.2, 'c':1j}\n",
        "for key, val in sorted(d.items()):\n",
        "  print('Key: %s has value: %s' % (key, val))"
      ],
      "execution_count": 20,
      "outputs": [
        {
          "output_type": "stream",
          "text": [
            "Key: a has value: 1\n",
            "Key: b has value: 1.2\n",
            "Key: c has value: 1j\n"
          ],
          "name": "stdout"
        }
      ]
    },
    {
      "metadata": {
        "id": "0j2XoHYFWCEi",
        "colab_type": "text"
      },
      "cell_type": "markdown",
      "source": [
        "**Lamdba** functions  lambda function is a way to create small anonymous functions, i.e. functions without a name\n",
        "The general syntax of a lambda function is quite simple: \n",
        "\n",
        "lambda argument_list: expression \n",
        "The argument list consists of a comma separated list of arguments and the expression is an arithmetic expression using these arguments"
      ]
    },
    {
      "metadata": {
        "id": "984RTPtNV_6Y",
        "colab_type": "code",
        "colab": {
          "base_uri": "https://localhost:8080/",
          "height": 36
        },
        "outputId": "1ee1e920-c23c-441d-a288-ef762f99dfeb"
      },
      "cell_type": "code",
      "source": [
        "f = lambda x, y : x + y\n",
        "f(1,1)"
      ],
      "execution_count": 34,
      "outputs": [
        {
          "output_type": "execute_result",
          "data": {
            "text/plain": [
              "2"
            ]
          },
          "metadata": {
            "tags": []
          },
          "execution_count": 34
        }
      ]
    },
    {
      "metadata": {
        "id": "Ih06EmkyWpcN",
        "colab_type": "text"
      },
      "cell_type": "markdown",
      "source": [
        "The advantage of the lambda operator can be seen when it is used in combination with the map() function.\n",
        "map() is a function with two arguments\n",
        "\n",
        "r =** map**(function, seqeuence)"
      ]
    },
    {
      "metadata": {
        "id": "pKwgMMO0WrVk",
        "colab_type": "code",
        "colab": {
          "base_uri": "https://localhost:8080/",
          "height": 36
        },
        "outputId": "721935a2-99af-4ff1-c0b1-811557bd294f"
      },
      "cell_type": "code",
      "source": [
        "Celsius = [39.2, 36.5, 37.3, 37.8]\n",
        "Celsius"
      ],
      "execution_count": 40,
      "outputs": [
        {
          "output_type": "execute_result",
          "data": {
            "text/plain": [
              "[39.2, 36.5, 37.3, 37.8]"
            ]
          },
          "metadata": {
            "tags": []
          },
          "execution_count": 40
        }
      ]
    },
    {
      "metadata": {
        "id": "tAWlPgv4XRI3",
        "colab_type": "code",
        "colab": {
          "base_uri": "https://localhost:8080/",
          "height": 36
        },
        "outputId": "aae4e250-5c38-4639-b014-da28635a8d73"
      },
      "cell_type": "code",
      "source": [
        "Fahrenheit = map(lambda x: (float(9)/5)*x + 32, Celsius)\n",
        "Fah =list(Fahrenheit)\n",
        "Fah"
      ],
      "execution_count": 53,
      "outputs": [
        {
          "output_type": "execute_result",
          "data": {
            "text/plain": [
              "[102.56, 97.7, 99.14, 100.03999999999999]"
            ]
          },
          "metadata": {
            "tags": []
          },
          "execution_count": 53
        }
      ]
    },
    {
      "metadata": {
        "id": "CwwBQ2n7Xpih",
        "colab_type": "code",
        "colab": {
          "base_uri": "https://localhost:8080/",
          "height": 36
        },
        "outputId": "426fca6b-732a-4790-821d-ac7c1ebaf839"
      },
      "cell_type": "code",
      "source": [
        " C = map(lambda x: (float(5)/9)*(x-32), Fah)\n",
        " list(C)\n"
      ],
      "execution_count": 54,
      "outputs": [
        {
          "output_type": "execute_result",
          "data": {
            "text/plain": [
              "[39.2, 36.5, 37.300000000000004, 37.8]"
            ]
          },
          "metadata": {
            "tags": []
          },
          "execution_count": 54
        }
      ]
    },
    {
      "metadata": {
        "id": "HCiZuobEYItB",
        "colab_type": "code",
        "colab": {
          "base_uri": "https://localhost:8080/",
          "height": 55
        },
        "outputId": "97634111-6561-4a9c-88c5-d7973d2130f5"
      },
      "cell_type": "code",
      "source": [
        "a = [1,2,3,4]\n",
        "b = [17,12,11,10]\n",
        "c = [-1,-4,5,9]\n",
        "x = list(map(lambda x,y:x+y, a,b))\n",
        "print(x)\n",
        "y = list(map(lambda x,y,z:x+y+z, a,b,c))\n",
        "print(y)"
      ],
      "execution_count": 58,
      "outputs": [
        {
          "output_type": "stream",
          "text": [
            "[18, 14, 14, 14]\n",
            "[17, 10, 19, 23]\n"
          ],
          "name": "stdout"
        }
      ]
    },
    {
      "metadata": {
        "id": "8GlIiucEYyGi",
        "colab_type": "text"
      },
      "cell_type": "markdown",
      "source": [
        "**Filtering ** The function filter(function, list) offers an elegant way to filter out all the elements of a list"
      ]
    },
    {
      "metadata": {
        "id": "1XXfI3qJY3JK",
        "colab_type": "code",
        "colab": {
          "base_uri": "https://localhost:8080/",
          "height": 36
        },
        "outputId": "2eebc273-8ade-4260-b130-e3d2622d63b1"
      },
      "cell_type": "code",
      "source": [
        "fib = [0,1,1,2,3,5,8,13,21,34,55]\n",
        "result = list(filter(lambda x: x % 2, fib))\n",
        "print(result)"
      ],
      "execution_count": 60,
      "outputs": [
        {
          "output_type": "stream",
          "text": [
            "[1, 1, 3, 5, 13, 21, 55]\n"
          ],
          "name": "stdout"
        }
      ]
    },
    {
      "metadata": {
        "id": "CRM-4F7wZBFU",
        "colab_type": "code",
        "colab": {
          "base_uri": "https://localhost:8080/",
          "height": 36
        },
        "outputId": "e011807c-84c5-49f8-a63e-b8b1cfd18bcc"
      },
      "cell_type": "code",
      "source": [
        "result2 = list(filter(lambda x: x % 2 == 0, fib))\n",
        "print(result2)"
      ],
      "execution_count": 61,
      "outputs": [
        {
          "output_type": "stream",
          "text": [
            "[0, 2, 8, 34]\n"
          ],
          "name": "stdout"
        }
      ]
    },
    {
      "metadata": {
        "id": "qEJnKYRGZJG-",
        "colab_type": "text"
      },
      "cell_type": "markdown",
      "source": [
        "**Reduce** : Reducing a List! (https://drive.google.com/open?id=1eGxEaAzlf2T6JjWIM1wQZhejjg90y86i)"
      ]
    },
    {
      "metadata": {
        "id": "GvbL-vjRZMWj",
        "colab_type": "code",
        "colab": {
          "base_uri": "https://localhost:8080/",
          "height": 36
        },
        "outputId": "92fe2fc4-f5ec-4f98-bffe-3ea36166a18c"
      },
      "cell_type": "code",
      "source": [
        "import functools\n",
        "functools.reduce(lambda x,y: x+y, [47,11,42,13])\n"
      ],
      "execution_count": 68,
      "outputs": [
        {
          "output_type": "execute_result",
          "data": {
            "text/plain": [
              "113"
            ]
          },
          "metadata": {
            "tags": []
          },
          "execution_count": 68
        }
      ]
    },
    {
      "metadata": {
        "id": "8CY8IlYQasrQ",
        "colab_type": "code",
        "colab": {
          "base_uri": "https://localhost:8080/",
          "height": 36
        },
        "outputId": "588bdba5-c170-4bf9-ccbe-c5353148b346"
      },
      "cell_type": "code",
      "source": [
        "import functools\n",
        "def add(x,y): return x+y\n",
        "functools.reduce(add, range(1, 11))"
      ],
      "execution_count": 67,
      "outputs": [
        {
          "output_type": "execute_result",
          "data": {
            "text/plain": [
              "55"
            ]
          },
          "metadata": {
            "tags": []
          },
          "execution_count": 67
        }
      ]
    },
    {
      "metadata": {
        "id": "XAnsJgZoSO3e",
        "colab_type": "text"
      },
      "cell_type": "markdown",
      "source": [
        "**List Comprehensions**   List comprehensions provide a concise way to create lists"
      ]
    },
    {
      "metadata": {
        "id": "yUVc5uFLSRDO",
        "colab_type": "code",
        "colab": {
          "base_uri": "https://localhost:8080/",
          "height": 55
        },
        "outputId": "2598d22d-b27d-4ede-9433-15db6b53ae67"
      },
      "cell_type": "code",
      "source": [
        "print(range(4))\n",
        "[i**2 for i in range(4)]"
      ],
      "execution_count": 21,
      "outputs": [
        {
          "output_type": "stream",
          "text": [
            "range(0, 4)\n"
          ],
          "name": "stdout"
        },
        {
          "output_type": "execute_result",
          "data": {
            "text/plain": [
              "[0, 1, 4, 9]"
            ]
          },
          "metadata": {
            "tags": []
          },
          "execution_count": 21
        }
      ]
    },
    {
      "metadata": {
        "id": "hUzdWyxMbMJs",
        "colab_type": "code",
        "colab": {
          "base_uri": "https://localhost:8080/",
          "height": 36
        },
        "outputId": "7db48013-5c2c-4f57-8e11-40f1b2e515e7"
      },
      "cell_type": "code",
      "source": [
        "#lets do the square without list comprehensions\n",
        "numbers = [1, 2, 3, 4]\n",
        "squares = []\n",
        "for n in numbers:\n",
        "  squares.append(n**2)\n",
        "print(squares)\n"
      ],
      "execution_count": 70,
      "outputs": [
        {
          "output_type": "stream",
          "text": [
            "[1, 4, 9, 16]\n"
          ],
          "name": "stdout"
        }
      ]
    },
    {
      "metadata": {
        "id": "w99EZot6bbQc",
        "colab_type": "code",
        "colab": {
          "base_uri": "https://localhost:8080/",
          "height": 36
        },
        "outputId": "5bfbdd8f-2a42-4f4a-a4c8-31feb798cf3e"
      },
      "cell_type": "code",
      "source": [
        "number1s = [1, 2, 3, 4]\n",
        "square1s = [n**2 for n in number1s]\n",
        "print(square1s)\n"
      ],
      "execution_count": 71,
      "outputs": [
        {
          "output_type": "stream",
          "text": [
            "[1, 4, 9, 16]\n"
          ],
          "name": "stdout"
        }
      ]
    },
    {
      "metadata": {
        "id": "DLr1Wg4zVBnX",
        "colab_type": "code",
        "colab": {
          "base_uri": "https://localhost:8080/",
          "height": 413
        },
        "outputId": "a872af1b-ca42-4083-de9e-777d9930c8e3"
      },
      "cell_type": "code",
      "source": [
        "x = (x **2 for x in range(20))\n",
        "print(x)\n",
        "list(x)\n",
        " "
      ],
      "execution_count": 30,
      "outputs": [
        {
          "output_type": "stream",
          "text": [
            "<generator object <genexpr> at 0x7f32e0c4b048>\n"
          ],
          "name": "stdout"
        },
        {
          "output_type": "execute_result",
          "data": {
            "text/plain": [
              "[0,\n",
              " 1,\n",
              " 4,\n",
              " 9,\n",
              " 16,\n",
              " 25,\n",
              " 36,\n",
              " 49,\n",
              " 64,\n",
              " 81,\n",
              " 100,\n",
              " 121,\n",
              " 144,\n",
              " 169,\n",
              " 196,\n",
              " 225,\n",
              " 256,\n",
              " 289,\n",
              " 324,\n",
              " 361]"
            ]
          },
          "metadata": {
            "tags": []
          },
          "execution_count": 30
        }
      ]
    },
    {
      "metadata": {
        "id": "HyOb66vbVbpI",
        "colab_type": "code",
        "colab": {
          "base_uri": "https://localhost:8080/",
          "height": 394
        },
        "outputId": "184a9c42-25d3-4ab8-91d8-cef20c7a6232"
      },
      "cell_type": "code",
      "source": [
        "x = [x **2 for x in range(20)]\n",
        "x"
      ],
      "execution_count": 31,
      "outputs": [
        {
          "output_type": "execute_result",
          "data": {
            "text/plain": [
              "[0,\n",
              " 1,\n",
              " 4,\n",
              " 9,\n",
              " 16,\n",
              " 25,\n",
              " 36,\n",
              " 49,\n",
              " 64,\n",
              " 81,\n",
              " 100,\n",
              " 121,\n",
              " 144,\n",
              " 169,\n",
              " 196,\n",
              " 225,\n",
              " 256,\n",
              " 289,\n",
              " 324,\n",
              " 361]"
            ]
          },
          "metadata": {
            "tags": []
          },
          "execution_count": 31
        }
      ]
    },
    {
      "metadata": {
        "id": "W8ADJbG4VtzV",
        "colab_type": "code",
        "colab": {
          "base_uri": "https://localhost:8080/",
          "height": 489
        },
        "outputId": "1d37a072-a2bb-4db6-80bd-8cd773c938ee"
      },
      "cell_type": "code",
      "source": [
        "noprimes = [j for i in range(2, 8) for j in range(i*2, 100, i)]\n",
        "primes = [x for x in range(2, 100) if x not in noprimes]\n",
        "primes"
      ],
      "execution_count": 33,
      "outputs": [
        {
          "output_type": "execute_result",
          "data": {
            "text/plain": [
              "[2,\n",
              " 3,\n",
              " 5,\n",
              " 7,\n",
              " 11,\n",
              " 13,\n",
              " 17,\n",
              " 19,\n",
              " 23,\n",
              " 29,\n",
              " 31,\n",
              " 37,\n",
              " 41,\n",
              " 43,\n",
              " 47,\n",
              " 53,\n",
              " 59,\n",
              " 61,\n",
              " 67,\n",
              " 71,\n",
              " 73,\n",
              " 79,\n",
              " 83,\n",
              " 89,\n",
              " 97]"
            ]
          },
          "metadata": {
            "tags": []
          },
          "execution_count": 33
        }
      ]
    }
  ]
}