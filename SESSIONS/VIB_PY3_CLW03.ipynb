{
  "nbformat": 4,
  "nbformat_minor": 0,
  "metadata": {
    "colab": {
      "name": "VIB_PY3_CLW03.ipynb",
      "version": "0.3.2",
      "provenance": [],
      "include_colab_link": true
    },
    "kernelspec": {
      "name": "python3",
      "display_name": "Python 3"
    }
  },
  "cells": [
    {
      "cell_type": "markdown",
      "metadata": {
        "id": "view-in-github",
        "colab_type": "text"
      },
      "source": [
        "<a href=\"https://colab.research.google.com/github/vibhawrajan29/PyforUs/blob/master/SESSIONS/VIB_PY3_CLW03.ipynb\" target=\"_parent\"><img src=\"https://colab.research.google.com/assets/colab-badge.svg\" alt=\"Open In Colab\"/></a>"
      ]
    },
    {
      "metadata": {
        "id": "E_QgFEME7d9W",
        "colab_type": "code",
        "colab": {
          "base_uri": "https://localhost:8080/",
          "height": 36
        },
        "outputId": "3dfc8606-0e84-4295-c0ed-4c317ec8bd38"
      },
      "cell_type": "code",
      "source": [
        "#merge two dictorny\n",
        "x = {'a':1 , 'b':2}\n",
        "y = {'b':3 , 'c':4}\n",
        "\n",
        "z = {**x, **y}\n",
        "z"
      ],
      "execution_count": 98,
      "outputs": [
        {
          "output_type": "execute_result",
          "data": {
            "text/plain": [
              "{'a': 1, 'b': 3, 'c': 4}"
            ]
          },
          "metadata": {
            "tags": []
          },
          "execution_count": 98
        }
      ]
    },
    {
      "metadata": {
        "id": "VlX6QjpAQd8j",
        "colab_type": "code",
        "colab": {
          "base_uri": "https://localhost:8080/",
          "height": 36
        },
        "outputId": "3c43cad1-45f2-4553-afd7-963b3196598c"
      },
      "cell_type": "code",
      "source": [
        "#this is just a quick recap\n",
        "list1 = [3,4,5]\n",
        "multiplied = [item*3 for item in list1] \n",
        "print(multiplied)"
      ],
      "execution_count": 179,
      "outputs": [
        {
          "output_type": "stream",
          "text": [
            "[9, 12, 15]\n"
          ],
          "name": "stdout"
        }
      ]
    },
    {
      "metadata": {
        "id": "7whhHjmBQkd7",
        "colab_type": "code",
        "colab": {
          "base_uri": "https://localhost:8080/",
          "height": 36
        },
        "outputId": "de4d667b-2bb1-4673-810a-579c8906a96c"
      },
      "cell_type": "code",
      "source": [
        "#this is just a quick recap\n",
        "listOfWords = [\"this\",\"is\",\"a\",\"list\",\"of\",\"words\"]\n",
        "\n",
        "items = [ word[0] for word in listOfWords ]\n",
        "\n",
        "print(items)\n"
      ],
      "execution_count": 180,
      "outputs": [
        {
          "output_type": "stream",
          "text": [
            "['t', 'i', 'a', 'l', 'o', 'w']\n"
          ],
          "name": "stdout"
        }
      ]
    },
    {
      "metadata": {
        "id": "SlgjQq-fQwGQ",
        "colab_type": "code",
        "colab": {
          "base_uri": "https://localhost:8080/",
          "height": 36
        },
        "outputId": "9c39d617-8251-4f8c-9223-2b22f24cd085"
      },
      "cell_type": "code",
      "source": [
        "[x.lower() for x in [\"A\",\"B\",\"C\"]]"
      ],
      "execution_count": 181,
      "outputs": [
        {
          "output_type": "execute_result",
          "data": {
            "text/plain": [
              "['a', 'b', 'c']"
            ]
          },
          "metadata": {
            "tags": []
          },
          "execution_count": 181
        }
      ]
    },
    {
      "metadata": {
        "id": "hcjm6isjet4L",
        "colab_type": "text"
      },
      "cell_type": "markdown",
      "source": [
        "***THIS  BELOW SYNTAX IS ONLY REQUIRED IF YOU ARE USING GOOGLE COLLAB ELSE IT WILL BE YOUR LOCAL MACHINE PATHS EITHER WINDOWS OR UNIX PATH***"
      ]
    },
    {
      "metadata": {
        "id": "YDmh_mOGeZ88",
        "colab_type": "code",
        "colab": {
          "base_uri": "https://localhost:8080/",
          "height": 92
        },
        "outputId": "48f886f7-8e1b-454f-e238-ebc43cb45638"
      },
      "cell_type": "code",
      "source": [
        "from google.colab import drive\n",
        "drive.mount('/content/drive')\n",
        "!ls \"/content/drive/My Drive/vibhawdrivepy\""
      ],
      "execution_count": 119,
      "outputs": [
        {
          "output_type": "stream",
          "text": [
            "Drive already mounted at /content/drive; to attempt to forcibly remount, call drive.mount(\"/content/drive\", force_remount=True).\n",
            "countries.csv\t newbook.xls\t     sample3write.csv  vibhaw.json.txt\n",
            "insert_stmt.txt  reduce_diagram.png  sample3write.txt  writetest.txt\n",
            "json2.txt\t sample2write.csv    sample.csv\n"
          ],
          "name": "stdout"
        }
      ]
    },
    {
      "metadata": {
        "id": "Rwm-aovEfKI2",
        "colab_type": "text"
      },
      "cell_type": "markdown",
      "source": [
        "**HANDELING TEXT FILE IN PYTHON ** \n",
        "for text file   file_object  = open(“filename”, “mode”)"
      ]
    },
    {
      "metadata": {
        "id": "5izU4fYifQUX",
        "colab_type": "code",
        "colab": {}
      },
      "cell_type": "code",
      "source": [
        "filename = \"/content/drive/My Drive/vibhawdrivepy/insert_stmt.txt\" #@param {type:\"string\"}"
      ],
      "execution_count": 0,
      "outputs": []
    },
    {
      "metadata": {
        "id": "20EBX3KcgcSZ",
        "colab_type": "code",
        "colab": {
          "base_uri": "https://localhost:8080/",
          "height": 168
        },
        "outputId": "088bbe52-193b-46eb-bdf9-bd149261223f"
      },
      "cell_type": "code",
      "source": [
        "file = open(filename, 'r') \n",
        "print(file.read() )"
      ],
      "execution_count": 3,
      "outputs": [
        {
          "output_type": "stream",
          "text": [
            "\"insert into vibhaw (master_plan_id,rule_type,rule_seq,rule_id,rule_txt,date_upd,vru_rule,vru_rule_type) values(100001, 'RS', '102', '111', 'hello', 2019-01-04 15:36:25, 1, 1)\"\n",
            "\"insert into vibhaw (master_plan_id,rule_type,rule_seq,rule_id,rule_txt,date_upd,vru_rule,vru_rule_type) values(100002, 'RS', '103', '111', 'hello', 2019-01-04 15:36:25, 1, 1)\"\n",
            "\"insert into vibhaw (master_plan_id,rule_type,rule_seq,rule_id,rule_txt,date_upd,vru_rule,vru_rule_type) values(100003, 'RS', '104', '111', 'hello', 2019-01-04 15:36:25, 1, 1)\"\n",
            "\"insert into vibhaw (master_plan_id,rule_type,rule_seq,rule_id,rule_txt,date_upd,vru_rule,vru_rule_type) values(100004, 'RS', '105', '111', 'hello', 2019-01-04 15:36:25, 1, 1)\"\n",
            "\"insert into vibhaw (master_plan_id,rule_type,rule_seq,rule_id,rule_txt,date_upd,vru_rule,vru_rule_type) values(100005, 'RS', '106', '111', 'hello', 2019-01-04 15:36:25, 1, 1)\"\n",
            "\"insert into vibhaw (master_plan_id,rule_type,rule_seq,rule_id,rule_txt,date_upd,vru_rule,vru_rule_type) values(100006, 'RS', '107', '111', 'hello', 2019-01-04 15:36:25, 1, 1)\"\n",
            "\"insert into vibhaw (master_plan_id,rule_type,rule_seq,rule_id,rule_txt,date_upd,vru_rule,vru_rule_type) values(100007, 'RS', '108', '111', 'hello', 2019-01-04 15:36:25, 1, 1)\"\n",
            "\n"
          ],
          "name": "stdout"
        }
      ]
    },
    {
      "metadata": {
        "id": "Hjlhe1ujg3sf",
        "colab_type": "code",
        "colab": {
          "base_uri": "https://localhost:8080/",
          "height": 36
        },
        "outputId": "47eb172f-4fd7-46d7-e096-50b6e1896a3a"
      },
      "cell_type": "code",
      "source": [
        "file = open(filename, 'r') \n",
        "print(file.read(8))"
      ],
      "execution_count": 4,
      "outputs": [
        {
          "output_type": "stream",
          "text": [
            "\"insert \n"
          ],
          "name": "stdout"
        }
      ]
    },
    {
      "metadata": {
        "id": "6flhFmAZjoBK",
        "colab_type": "code",
        "colab": {
          "base_uri": "https://localhost:8080/",
          "height": 55
        },
        "outputId": "ea5cece4-fab6-49c8-d57d-53c71c2188f2"
      },
      "cell_type": "code",
      "source": [
        "file = open(filename, 'r')\n",
        "print(file.readline())"
      ],
      "execution_count": 5,
      "outputs": [
        {
          "output_type": "stream",
          "text": [
            "\"insert into vibhaw (master_plan_id,rule_type,rule_seq,rule_id,rule_txt,date_upd,vru_rule,vru_rule_type) values(100001, 'RS', '102', '111', 'hello', 2019-01-04 15:36:25, 1, 1)\"\n",
            "\n"
          ],
          "name": "stdout"
        }
      ]
    },
    {
      "metadata": {
        "id": "rGkaH3JJhN9V",
        "colab_type": "code",
        "colab": {
          "base_uri": "https://localhost:8080/",
          "height": 56
        },
        "outputId": "cc291e84-26bf-4b0a-f4e1-b90a941744d7"
      },
      "cell_type": "code",
      "source": [
        "file = open(filename, 'r')\n",
        "print(file.readlines())"
      ],
      "execution_count": 6,
      "outputs": [
        {
          "output_type": "stream",
          "text": [
            "['\"insert into vibhaw (master_plan_id,rule_type,rule_seq,rule_id,rule_txt,date_upd,vru_rule,vru_rule_type) values(100001, \\'RS\\', \\'102\\', \\'111\\', \\'hello\\', 2019-01-04 15:36:25, 1, 1)\"\\n', '\"insert into vibhaw (master_plan_id,rule_type,rule_seq,rule_id,rule_txt,date_upd,vru_rule,vru_rule_type) values(100002, \\'RS\\', \\'103\\', \\'111\\', \\'hello\\', 2019-01-04 15:36:25, 1, 1)\"\\n', '\"insert into vibhaw (master_plan_id,rule_type,rule_seq,rule_id,rule_txt,date_upd,vru_rule,vru_rule_type) values(100003, \\'RS\\', \\'104\\', \\'111\\', \\'hello\\', 2019-01-04 15:36:25, 1, 1)\"\\n', '\"insert into vibhaw (master_plan_id,rule_type,rule_seq,rule_id,rule_txt,date_upd,vru_rule,vru_rule_type) values(100004, \\'RS\\', \\'105\\', \\'111\\', \\'hello\\', 2019-01-04 15:36:25, 1, 1)\"\\n', '\"insert into vibhaw (master_plan_id,rule_type,rule_seq,rule_id,rule_txt,date_upd,vru_rule,vru_rule_type) values(100005, \\'RS\\', \\'106\\', \\'111\\', \\'hello\\', 2019-01-04 15:36:25, 1, 1)\"\\n', '\"insert into vibhaw (master_plan_id,rule_type,rule_seq,rule_id,rule_txt,date_upd,vru_rule,vru_rule_type) values(100006, \\'RS\\', \\'107\\', \\'111\\', \\'hello\\', 2019-01-04 15:36:25, 1, 1)\"\\n', '\"insert into vibhaw (master_plan_id,rule_type,rule_seq,rule_id,rule_txt,date_upd,vru_rule,vru_rule_type) values(100007, \\'RS\\', \\'108\\', \\'111\\', \\'hello\\', 2019-01-04 15:36:25, 1, 1)\"\\n']\n"
          ],
          "name": "stdout"
        }
      ]
    },
    {
      "metadata": {
        "id": "eMDKua6ehVyG",
        "colab_type": "code",
        "colab": {
          "base_uri": "https://localhost:8080/",
          "height": 56
        },
        "outputId": "06233a1c-3300-43a4-d2d7-fa0443980ea2"
      },
      "cell_type": "code",
      "source": [
        "file = open(filename, 'r')\n",
        "print(file.readlines(2))"
      ],
      "execution_count": 7,
      "outputs": [
        {
          "output_type": "stream",
          "text": [
            "['\"insert into vibhaw (master_plan_id,rule_type,rule_seq,rule_id,rule_txt,date_upd,vru_rule,vru_rule_type) values(100001, \\'RS\\', \\'102\\', \\'111\\', \\'hello\\', 2019-01-04 15:36:25, 1, 1)\"\\n']\n"
          ],
          "name": "stdout"
        }
      ]
    },
    {
      "metadata": {
        "id": "2n9yqG9xiIOd",
        "colab_type": "code",
        "colab": {
          "base_uri": "https://localhost:8080/",
          "height": 281
        },
        "outputId": "4d17459a-8057-4c7f-c546-a1a5f954b4cd"
      },
      "cell_type": "code",
      "source": [
        "file = open(filename, 'r') \n",
        "for line in file: \n",
        "  print(line)"
      ],
      "execution_count": 8,
      "outputs": [
        {
          "output_type": "stream",
          "text": [
            "\"insert into vibhaw (master_plan_id,rule_type,rule_seq,rule_id,rule_txt,date_upd,vru_rule,vru_rule_type) values(100001, 'RS', '102', '111', 'hello', 2019-01-04 15:36:25, 1, 1)\"\n",
            "\n",
            "\"insert into vibhaw (master_plan_id,rule_type,rule_seq,rule_id,rule_txt,date_upd,vru_rule,vru_rule_type) values(100002, 'RS', '103', '111', 'hello', 2019-01-04 15:36:25, 1, 1)\"\n",
            "\n",
            "\"insert into vibhaw (master_plan_id,rule_type,rule_seq,rule_id,rule_txt,date_upd,vru_rule,vru_rule_type) values(100003, 'RS', '104', '111', 'hello', 2019-01-04 15:36:25, 1, 1)\"\n",
            "\n",
            "\"insert into vibhaw (master_plan_id,rule_type,rule_seq,rule_id,rule_txt,date_upd,vru_rule,vru_rule_type) values(100004, 'RS', '105', '111', 'hello', 2019-01-04 15:36:25, 1, 1)\"\n",
            "\n",
            "\"insert into vibhaw (master_plan_id,rule_type,rule_seq,rule_id,rule_txt,date_upd,vru_rule,vru_rule_type) values(100005, 'RS', '106', '111', 'hello', 2019-01-04 15:36:25, 1, 1)\"\n",
            "\n",
            "\"insert into vibhaw (master_plan_id,rule_type,rule_seq,rule_id,rule_txt,date_upd,vru_rule,vru_rule_type) values(100006, 'RS', '107', '111', 'hello', 2019-01-04 15:36:25, 1, 1)\"\n",
            "\n",
            "\"insert into vibhaw (master_plan_id,rule_type,rule_seq,rule_id,rule_txt,date_upd,vru_rule,vru_rule_type) values(100007, 'RS', '108', '111', 'hello', 2019-01-04 15:36:25, 1, 1)\"\n",
            "\n"
          ],
          "name": "stdout"
        }
      ]
    },
    {
      "metadata": {
        "id": "oiW6GbyeiUDW",
        "colab_type": "code",
        "colab": {}
      },
      "cell_type": "code",
      "source": [
        "filetowrite = \"/content/drive/My Drive/vibhawdrivepy/writetest.txt\" #@param {type:\"string\"}\n",
        "file = open(filetowrite, 'w')\n",
        "\n",
        "file.write('This is a test') \n",
        "file.write('To add more lines.')\n",
        "\n",
        "file.close()"
      ],
      "execution_count": 0,
      "outputs": []
    },
    {
      "metadata": {
        "id": "q7bKTdcwknnU",
        "colab_type": "code",
        "colab": {}
      },
      "cell_type": "code",
      "source": [
        "file = open(filetowrite, 'a')\n",
        "\n",
        "file.write('This is a test\\n') \n",
        "file.write('To add more lines.')\n",
        "\n",
        "file.close()"
      ],
      "execution_count": 0,
      "outputs": []
    },
    {
      "metadata": {
        "id": "P-mf5-kNj7Ml",
        "colab_type": "code",
        "colab": {
          "base_uri": "https://localhost:8080/",
          "height": 74
        },
        "outputId": "0f0a8347-c60e-4dd5-a093-a80a023fa6a2"
      },
      "cell_type": "code",
      "source": [
        "with open(filetowrite) as f:\n",
        "  for line in f:\n",
        "    print(line)\n"
      ],
      "execution_count": 11,
      "outputs": [
        {
          "output_type": "stream",
          "text": [
            "This is a testTo add more lines.This is a test\n",
            "\n",
            "To add more lines.\n"
          ],
          "name": "stdout"
        }
      ]
    },
    {
      "metadata": {
        "id": "npFOOCNbksiX",
        "colab_type": "code",
        "colab": {
          "base_uri": "https://localhost:8080/",
          "height": 169
        },
        "outputId": "1c32c93e-dd6c-4672-9b5b-a5ba1e10dbb8"
      },
      "cell_type": "code",
      "source": [
        "with open(filename, 'r') as f:\n",
        "  data = f.readlines() \n",
        "  for line in data:\n",
        "    words = line.split()\n",
        "    print(words)\n"
      ],
      "execution_count": 12,
      "outputs": [
        {
          "output_type": "stream",
          "text": [
            "['\"insert', 'into', 'vibhaw', '(master_plan_id,rule_type,rule_seq,rule_id,rule_txt,date_upd,vru_rule,vru_rule_type)', 'values(100001,', \"'RS',\", \"'102',\", \"'111',\", \"'hello',\", '2019-01-04', '15:36:25,', '1,', '1)\"']\n",
            "['\"insert', 'into', 'vibhaw', '(master_plan_id,rule_type,rule_seq,rule_id,rule_txt,date_upd,vru_rule,vru_rule_type)', 'values(100002,', \"'RS',\", \"'103',\", \"'111',\", \"'hello',\", '2019-01-04', '15:36:25,', '1,', '1)\"']\n",
            "['\"insert', 'into', 'vibhaw', '(master_plan_id,rule_type,rule_seq,rule_id,rule_txt,date_upd,vru_rule,vru_rule_type)', 'values(100003,', \"'RS',\", \"'104',\", \"'111',\", \"'hello',\", '2019-01-04', '15:36:25,', '1,', '1)\"']\n",
            "['\"insert', 'into', 'vibhaw', '(master_plan_id,rule_type,rule_seq,rule_id,rule_txt,date_upd,vru_rule,vru_rule_type)', 'values(100004,', \"'RS',\", \"'105',\", \"'111',\", \"'hello',\", '2019-01-04', '15:36:25,', '1,', '1)\"']\n",
            "['\"insert', 'into', 'vibhaw', '(master_plan_id,rule_type,rule_seq,rule_id,rule_txt,date_upd,vru_rule,vru_rule_type)', 'values(100005,', \"'RS',\", \"'106',\", \"'111',\", \"'hello',\", '2019-01-04', '15:36:25,', '1,', '1)\"']\n",
            "['\"insert', 'into', 'vibhaw', '(master_plan_id,rule_type,rule_seq,rule_id,rule_txt,date_upd,vru_rule,vru_rule_type)', 'values(100006,', \"'RS',\", \"'107',\", \"'111',\", \"'hello',\", '2019-01-04', '15:36:25,', '1,', '1)\"']\n",
            "['\"insert', 'into', 'vibhaw', '(master_plan_id,rule_type,rule_seq,rule_id,rule_txt,date_upd,vru_rule,vru_rule_type)', 'values(100007,', \"'RS',\", \"'108',\", \"'111',\", \"'hello',\", '2019-01-04', '15:36:25,', '1,', '1)\"']\n"
          ],
          "name": "stdout"
        }
      ]
    },
    {
      "metadata": {
        "id": "d6qOt4SglFyT",
        "colab_type": "text"
      },
      "cell_type": "markdown",
      "source": [
        "**HANDELING CSV  FILE IN PYTHON **\n",
        "\n",
        "The csv module implements classes to operate with CSV files. It is focused on the format that is preferred by Microsoft Excel. However, its functionality is extensive enough to work with CSV files that use different delimiters and quoting characters.\n",
        "\n",
        "This module provides the functions reader and writer, which work in a sequential manner. It also has the DictReader and DictWriter classes to manage your CSV data in the form of a Python dictionary object.\n"
      ]
    },
    {
      "metadata": {
        "id": "lxJVeY5_lKqi",
        "colab_type": "code",
        "colab": {}
      },
      "cell_type": "code",
      "source": [
        "filenamecsv = \"/content/drive/My Drive/vibhawdrivepy/sample.csv\" #@param {type:\"string\"}"
      ],
      "execution_count": 0,
      "outputs": []
    },
    {
      "metadata": {
        "id": "7Epa4H7Hmq70",
        "colab_type": "code",
        "colab": {
          "base_uri": "https://localhost:8080/",
          "height": 111
        },
        "outputId": "07f5cba4-04e2-4923-8ed7-3e8742eb353c"
      },
      "cell_type": "code",
      "source": [
        "import csv\n",
        "with open(filenamecsv) as myFile: \n",
        "    reader = csv.reader(myFile)\n",
        "    for row in reader:\n",
        "        print(row)"
      ],
      "execution_count": 17,
      "outputs": [
        {
          "output_type": "stream",
          "text": [
            "['1', '2', '3']\n",
            "['good Morning ', 'good afternoon', 'good evening ']\n",
            "['AM', 'NOON', 'PM']\n",
            "['breakfast', 'lunch', 'dinner']\n",
            "['wakeup', 'dooze', 'sleep']\n"
          ],
          "name": "stdout"
        }
      ]
    },
    {
      "metadata": {
        "id": "M4XFtnoGnC7w",
        "colab_type": "code",
        "colab": {
          "base_uri": "https://localhost:8080/",
          "height": 92
        },
        "outputId": "45c51289-8d65-4f91-fd24-41b371f8b53c"
      },
      "cell_type": "code",
      "source": [
        "\n",
        "with open(filenamecsv,'r') as f:\n",
        "  reader = csv.reader(f)\n",
        "  #header = reader.next()  #pop out the header if you have  for Python 2\n",
        "  header = next(reader) #pop out the header if you have  for Python 2  \n",
        "  for line in reader:\n",
        "    print(line)\n",
        "  \n",
        "  "
      ],
      "execution_count": 22,
      "outputs": [
        {
          "output_type": "stream",
          "text": [
            "['good Morning ', 'good afternoon', 'good evening ']\n",
            "['AM', 'NOON', 'PM']\n",
            "['breakfast', 'lunch', 'dinner']\n",
            "['wakeup', 'dooze', 'sleep']\n"
          ],
          "name": "stdout"
        }
      ]
    },
    {
      "metadata": {
        "id": "KQLoUUbKnizb",
        "colab_type": "code",
        "colab": {
          "base_uri": "https://localhost:8080/",
          "height": 36
        },
        "outputId": "c29aa210-b733-4b3b-d5b5-8af6165e8179"
      },
      "cell_type": "code",
      "source": [
        "data = []\n",
        "with open(filenamecsv,'r') as f:\n",
        "  reader = csv.reader(f)\n",
        "  #header = reader.next()  \n",
        "  for line in reader:\n",
        "    data.append(line[2])   #column wise\n",
        "print(data)\n",
        "  \n",
        "\n"
      ],
      "execution_count": 23,
      "outputs": [
        {
          "output_type": "stream",
          "text": [
            "['3', 'good evening ', 'PM', 'dinner', 'sleep']\n"
          ],
          "name": "stdout"
        }
      ]
    },
    {
      "metadata": {
        "id": "BU2so62oqZKD",
        "colab_type": "code",
        "colab": {
          "base_uri": "https://localhost:8080/",
          "height": 168
        },
        "outputId": "99bbc3df-b93c-43ff-98f1-b6cc4fa128cb"
      },
      "cell_type": "code",
      "source": [
        "print(type(data))\n",
        "#rint(list(zip(data)))\n",
        "for row in data:\n",
        "  print(row)\n",
        "print('\\n')"
      ],
      "execution_count": 39,
      "outputs": [
        {
          "output_type": "stream",
          "text": [
            "<class 'list'>\n",
            "3\n",
            "good evening \n",
            "PM\n",
            "dinner\n",
            "sleep\n",
            "\n",
            "\n"
          ],
          "name": "stdout"
        }
      ]
    },
    {
      "metadata": {
        "id": "DpH6NOa-oWK-",
        "colab_type": "code",
        "colab": {
          "base_uri": "https://localhost:8080/",
          "height": 111
        },
        "outputId": "07902f31-a7eb-4b96-a2d4-ab0ea4f644a5"
      },
      "cell_type": "code",
      "source": [
        "with open(filenamecsv, newline='') as myFile:  \n",
        "    reader = csv.reader(myFile, delimiter='/', quoting=csv.QUOTE_NONE)\n",
        "    for row in reader:\n",
        "        print(row)"
      ],
      "execution_count": 24,
      "outputs": [
        {
          "output_type": "stream",
          "text": [
            "['1,2,3']\n",
            "['good Morning ,good afternoon,good evening ']\n",
            "['AM,NOON,PM']\n",
            "['breakfast,lunch,dinner']\n",
            "['wakeup,dooze,sleep']\n"
          ],
          "name": "stdout"
        }
      ]
    },
    {
      "metadata": {
        "id": "124N5klTso9D",
        "colab_type": "code",
        "colab": {}
      },
      "cell_type": "code",
      "source": [
        "filecsv2wrtie = \"/content/drive/My Drive/vibhawdrivepy/sample2write.csv\" #@param {type:\"string\"}\n",
        "\n",
        "  \n",
        "  "
      ],
      "execution_count": 0,
      "outputs": []
    },
    {
      "metadata": {
        "id": "1SiPSl3atWmf",
        "colab_type": "code",
        "colab": {}
      },
      "cell_type": "code",
      "source": [
        "with open(filecsv2wrtie, 'w') as f:\n",
        "  writer = csv.writer(f, delimiter=',')\n",
        "  writer.writerow(['col1','col2','col3','col4'])\n",
        "  writer.writerows(data)"
      ],
      "execution_count": 0,
      "outputs": []
    },
    {
      "metadata": {
        "id": "q6NIEpH753Hu",
        "colab_type": "code",
        "colab": {}
      },
      "cell_type": "code",
      "source": [
        "filecsv3wrtie = \"/content/drive/My Drive/vibhawdrivepy/sample3write.csv\" #@param {type:\"string\"}\n"
      ],
      "execution_count": 0,
      "outputs": []
    },
    {
      "metadata": {
        "id": "09E9rPhf5yIC",
        "colab_type": "code",
        "colab": {
          "base_uri": "https://localhost:8080/",
          "height": 74
        },
        "outputId": "b77231a1-1514-42d5-dcbb-e465852f0375"
      },
      "cell_type": "code",
      "source": [
        "\n",
        "dict = {'Python' : '.py', 'C++' : '.cpp', 'Java' : '.java'}\n",
        "w = csv.writer(open(filecsv3wrtie, \"w\"))\n",
        "for key, val in dict.items():\n",
        "  w.writerow([key, val])\n",
        "  print(([key, val]))"
      ],
      "execution_count": 93,
      "outputs": [
        {
          "output_type": "stream",
          "text": [
            "['Python', '.py']\n",
            "['C++', '.cpp']\n",
            "['Java', '.java']\n"
          ],
          "name": "stdout"
        }
      ]
    },
    {
      "metadata": {
        "id": "zmCKhHUyvpTb",
        "colab_type": "code",
        "colab": {
          "base_uri": "https://localhost:8080/",
          "height": 92
        },
        "outputId": "a2a2723f-4007-4960-f6a5-f6d076d28595"
      },
      "cell_type": "code",
      "source": [
        "with open(filenamecsv,'r') as myFile:  \n",
        "    reader = csv.DictReader(myFile)\n",
        "    for row in reader:\n",
        "        print(row)"
      ],
      "execution_count": 47,
      "outputs": [
        {
          "output_type": "stream",
          "text": [
            "OrderedDict([('1', 'good Morning '), ('2', 'good afternoon'), ('3', 'good evening ')])\n",
            "OrderedDict([('1', 'AM'), ('2', 'NOON'), ('3', 'PM')])\n",
            "OrderedDict([('1', 'breakfast'), ('2', 'lunch'), ('3', 'dinner')])\n",
            "OrderedDict([('1', 'wakeup'), ('2', 'dooze'), ('3', 'sleep')])\n"
          ],
          "name": "stdout"
        }
      ]
    },
    {
      "metadata": {
        "id": "7SzYO_GfwLU1",
        "colab_type": "code",
        "colab": {
          "base_uri": "https://localhost:8080/",
          "height": 92
        },
        "outputId": "15754c42-9546-43c5-b94a-b5c20b3814de"
      },
      "cell_type": "code",
      "source": [
        "with open(filenamecsv,'r') as myFile:  \n",
        "    reader = csv.DictReader(myFile)\n",
        "    for row in reader:\n",
        "        print(row['1'])"
      ],
      "execution_count": 49,
      "outputs": [
        {
          "output_type": "stream",
          "text": [
            "good Morning \n",
            "AM\n",
            "breakfast\n",
            "wakeup\n"
          ],
          "name": "stdout"
        }
      ]
    },
    {
      "metadata": {
        "id": "-PbZGvdvxDBl",
        "colab_type": "code",
        "colab": {}
      },
      "cell_type": "code",
      "source": [
        "filecsv2wr = \"/content/drive/My Drive/vibhawdrivepy/countries.csv\" #@param {type:\"string\"}\n"
      ],
      "execution_count": 0,
      "outputs": []
    },
    {
      "metadata": {
        "id": "UqHbgubswmAv",
        "colab_type": "code",
        "colab": {}
      },
      "cell_type": "code",
      "source": [
        "myFi = open(filecsv2wr, 'w')  \n",
        "with myFi:  \n",
        "    myFields = ['country', 'capital']\n",
        "    writer = csv.DictWriter(myFi, fieldnames=myFields)    \n",
        "    writer.writeheader()\n",
        "    writer.writerow({'country' : 'France', 'capital': 'Paris'})\n",
        "    writer.writerow({'country' : 'Italy', 'capital': 'Rome'})\n",
        "    writer.writerow({'country' : 'Spain', 'capital': 'Madrid'})\n",
        "    writer.writerow({'country' : 'Russia', 'capital': 'Moscow'})"
      ],
      "execution_count": 0,
      "outputs": []
    },
    {
      "metadata": {
        "id": "G0ng0J1YxoWy",
        "colab_type": "text"
      },
      "cell_type": "markdown",
      "source": [
        "**HANDELING JSON FILE IN PYTHON **\n",
        "\n",
        "\n",
        "\n",
        "json loads -> returns an object from a string representing a json object.\n",
        "\n",
        "json dumps -> returns a string representing a json object from an object.\n",
        "\n",
        "load and dump -> read/write from/to file instead of string\n"
      ]
    },
    {
      "metadata": {
        "id": "UN6YgV0qx3N_",
        "colab_type": "code",
        "colab": {
          "base_uri": "https://localhost:8080/",
          "height": 36
        },
        "outputId": "da5c325d-e7d7-4eb2-d07b-5a48227b2ec7"
      },
      "cell_type": "code",
      "source": [
        "import json\n",
        "json_string = \"\"\"\n",
        "{\n",
        "    \"researcher\": {\n",
        "        \"name\": \"Vikram\",\n",
        "        \"species\": \"Srabhai\",\n",
        "        \"relatives\": [\n",
        "            {\n",
        "                \"name\": \"Akram\",\n",
        "                \"species\": \"khan\"\n",
        "            }\n",
        "        ]\n",
        "    }\n",
        "}\n",
        "\"\"\"\n",
        "dataed = json.loads(json_string)\n",
        "json.dumps(dataed, indent=1)\n"
      ],
      "execution_count": 132,
      "outputs": [
        {
          "output_type": "execute_result",
          "data": {
            "text/plain": [
              "'{\\n \"researcher\": {\\n  \"name\": \"Vikram\",\\n  \"species\": \"Srabhai\",\\n  \"relatives\": [\\n   {\\n    \"name\": \"Akram\",\\n    \"species\": \"khan\"\\n   }\\n  ]\\n }\\n}'"
            ]
          },
          "metadata": {
            "tags": []
          },
          "execution_count": 132
        }
      ]
    },
    {
      "metadata": {
        "id": "SoPr8ZPqyp34",
        "colab_type": "code",
        "colab": {
          "base_uri": "https://localhost:8080/",
          "height": 243
        },
        "outputId": "201467c5-810d-47ef-e7d6-435a888d42e6"
      },
      "cell_type": "code",
      "source": [
        "import pprint\n",
        "pprint.pprint(json.dumps(dataed,indent=4))"
      ],
      "execution_count": 110,
      "outputs": [
        {
          "output_type": "stream",
          "text": [
            "('{\\n'\n",
            " '    \"researcher\": {\\n'\n",
            " '        \"name\": \"Vikram\",\\n'\n",
            " '        \"species\": \"Srabhai\",\\n'\n",
            " '        \"relatives\": [\\n'\n",
            " '            {\\n'\n",
            " '                \"name\": \"Akram\",\\n'\n",
            " '                \"species\": \"khan\"\\n'\n",
            " '            }\\n'\n",
            " '        ]\\n'\n",
            " '    }\\n'\n",
            " '}')\n"
          ],
          "name": "stdout"
        }
      ]
    },
    {
      "metadata": {
        "id": "H3KlK1vr022x",
        "colab_type": "code",
        "colab": {
          "base_uri": "https://localhost:8080/",
          "height": 225
        },
        "outputId": "7fe1d0b4-5630-4760-be65-b15ccb0584aa"
      },
      "cell_type": "code",
      "source": [
        "your_json = '[\"foo\", {\"bar\":[\"baz\", null, 1.0, 2]}]'\n",
        "parsed = json.loads(your_json)\n",
        "print(json.dumps(parsed, indent=4, sort_keys=True))"
      ],
      "execution_count": 72,
      "outputs": [
        {
          "output_type": "stream",
          "text": [
            "[\n",
            "    \"foo\",\n",
            "    {\n",
            "        \"bar\": [\n",
            "            \"baz\",\n",
            "            null,\n",
            "            1.0,\n",
            "            2\n",
            "        ]\n",
            "    }\n",
            "]\n"
          ],
          "name": "stdout"
        }
      ]
    },
    {
      "metadata": {
        "id": "-HPe5BL_0Fiz",
        "colab_type": "code",
        "colab": {
          "base_uri": "https://localhost:8080/",
          "height": 56
        },
        "outputId": "d72f290b-a0e4-4e72-8b25-23d5d3b3086f"
      },
      "cell_type": "code",
      "source": [
        "filejson2write = \"/content/drive/My Drive/vibhawdrivepy/json2.txt\" #@param {type:\"string\"}\n",
        "\n",
        "import json\n",
        "data = {}  \n",
        "data['people'] = []  \n",
        "data['people'].append({  \n",
        "    'name': 'Ramesh',\n",
        "    'website': 'google.com',\n",
        "    'from': 'Chennai'\n",
        "})\n",
        "data['people'].append({  \n",
        "    'name': 'Ramalingam',\n",
        "    'website': 'google.com',\n",
        "    'from': 'Vellore'\n",
        "})\n",
        "data['people'].append({  \n",
        "    'name': 'Santosh',\n",
        "    'website': 'google.com',\n",
        "    'from': 'Coimbatore'\n",
        "})\n",
        "\n",
        "print(data)\n",
        "\n",
        "with open(filejson2write, 'w') as outfile:  \n",
        "    json.dump(data, outfile)"
      ],
      "execution_count": 84,
      "outputs": [
        {
          "output_type": "stream",
          "text": [
            "{'people': [{'name': 'Ramesh', 'website': 'google.com', 'from': 'Chennai'}, {'name': 'Ramalingam', 'website': 'google.com', 'from': 'Vellore'}, {'name': 'Santosh', 'website': 'google.com', 'from': 'Coimbatore'}]}\n"
          ],
          "name": "stdout"
        }
      ]
    },
    {
      "metadata": {
        "id": "aPDkfzMA4kWe",
        "colab_type": "code",
        "colab": {
          "base_uri": "https://localhost:8080/",
          "height": 243
        },
        "outputId": "2ac4c3c3-8e52-4744-fa9a-536ba3cfca45"
      },
      "cell_type": "code",
      "source": [
        "\n",
        "with open(filejson2write) as json_file:  \n",
        "    data = json.load(json_file)\n",
        "    for p in data['people']:\n",
        "        print('Name: ' + p['name'])\n",
        "        print('Website: ' + p['website'])\n",
        "        print('From: ' + p['from'])\n",
        "        print('')"
      ],
      "execution_count": 136,
      "outputs": [
        {
          "output_type": "stream",
          "text": [
            "Name: Ramesh\n",
            "Website: google.com\n",
            "From: Chennai\n",
            "\n",
            "Name: Ramalingam\n",
            "Website: google.com\n",
            "From: Vellore\n",
            "\n",
            "Name: Santosh\n",
            "Website: google.com\n",
            "From: Coimbatore\n",
            "\n"
          ],
          "name": "stdout"
        }
      ]
    },
    {
      "metadata": {
        "id": "zwDQIzD14_KM",
        "colab_type": "code",
        "colab": {
          "base_uri": "https://localhost:8080/",
          "height": 55
        },
        "outputId": "8d2f0050-a3c3-4e85-b781-ef061d2fa593"
      },
      "cell_type": "code",
      "source": [
        "import json\n",
        "\n",
        "r = {'is_claimed': 'True', 'rating': 3.5}\n",
        "r = json.dumps(r)\n",
        "loaded_r = json.loads(r)\n",
        "loaded_r['rating'] #Output 3.5\n",
        "print(loaded_r['rating'])\n",
        "type(r) #Output str\n",
        "type(loaded_r) #Output dict"
      ],
      "execution_count": 87,
      "outputs": [
        {
          "output_type": "stream",
          "text": [
            "3.5\n"
          ],
          "name": "stdout"
        },
        {
          "output_type": "execute_result",
          "data": {
            "text/plain": [
              "dict"
            ]
          },
          "metadata": {
            "tags": []
          },
          "execution_count": 87
        }
      ]
    },
    {
      "metadata": {
        "id": "gZEn84NR6LS5",
        "colab_type": "code",
        "colab": {}
      },
      "cell_type": "code",
      "source": [
        "filejson3wrtie = \"/content/drive/My Drive/vibhawdrivepy/sample3write.json\" #@param {type:\"string\"}\n"
      ],
      "execution_count": 0,
      "outputs": []
    },
    {
      "metadata": {
        "id": "kcSw7QAz6dfn",
        "colab_type": "code",
        "colab": {}
      },
      "cell_type": "code",
      "source": [
        "\n",
        "dict = {'Python' : '.py', 'C++' : '.cpp', 'Java' : '.java'}\n",
        " \n",
        "json = json.dumps(dict)\n",
        "f = open(filejson3wrtie,\"w\")\n",
        "f.write(json)\n",
        "f.close()"
      ],
      "execution_count": 0,
      "outputs": []
    },
    {
      "metadata": {
        "id": "VGaNmC0JA-19",
        "colab_type": "code",
        "colab": {
          "base_uri": "https://localhost:8080/",
          "height": 74
        },
        "outputId": "9387031a-32e9-4d0d-c03d-4ffd763c43ca"
      },
      "cell_type": "code",
      "source": [
        "!ls \"/content/drive/My Drive/vibhawdrivepy\""
      ],
      "execution_count": 120,
      "outputs": [
        {
          "output_type": "stream",
          "text": [
            "countries.csv\t newbook.xls\t     sample3write.csv  vibhaw.json\n",
            "insert_stmt.txt  reduce_diagram.png  sample3write.txt  vibhaw.json.txt\n",
            "json2.txt\t sample2write.csv    sample.csv        writetest.txt\n"
          ],
          "name": "stdout"
        }
      ]
    },
    {
      "metadata": {
        "id": "5BpAabbOAcj7",
        "colab_type": "code",
        "colab": {
          "base_uri": "https://localhost:8080/",
          "height": 111
        },
        "outputId": "0a2c5be1-3221-48a2-c4fb-2f5458ef38ca"
      },
      "cell_type": "code",
      "source": [
        "\n",
        "import json\n",
        "from pprint import pprint\n",
        "with open('/content/drive/My Drive/vibhawdrivepy/vibhaw.json') as f:\n",
        "    data = json.load(f)\n",
        "\n",
        "pprint(data)"
      ],
      "execution_count": 123,
      "outputs": [
        {
          "output_type": "stream",
          "text": [
            "{'maps': [{'id': 'vibhaw', 'iscategorical': '1'},\n",
            "          {'id': 'Rajan', 'iscategorical': '0'}],\n",
            " 'masks': {'id': 'VPR'},\n",
            " 'om_points': 'value',\n",
            " 'parameters': {'id': 'blablabalh'}}\n"
          ],
          "name": "stdout"
        }
      ]
    },
    {
      "metadata": {
        "id": "LFIcdu0bBnSw",
        "colab_type": "code",
        "colab": {
          "base_uri": "https://localhost:8080/",
          "height": 92
        },
        "outputId": "68a41db4-0b4a-40b8-d3de-8567f0c982eb"
      },
      "cell_type": "code",
      "source": [
        "print(data[\"maps\"][0][\"id\"])\n",
        "print(data[\"maps\"][1][\"id\"])\n",
        "print(data[\"masks\"][\"id\"])\n",
        "print(data[\"om_points\"])"
      ],
      "execution_count": 125,
      "outputs": [
        {
          "output_type": "stream",
          "text": [
            "vibhaw\n",
            "Rajan\n",
            "VPR\n",
            "value\n"
          ],
          "name": "stdout"
        }
      ]
    },
    {
      "metadata": {
        "id": "EvlscuLoEFcU",
        "colab_type": "code",
        "colab": {
          "base_uri": "https://localhost:8080/",
          "height": 23506
        },
        "outputId": "5cbad71e-5c96-474a-8758-d867096a260c"
      },
      "cell_type": "code",
      "source": [
        "import json\n",
        "import requests\n",
        "import pprint\n",
        "response = requests.get(\"https://jsonplaceholder.typicode.com/todos\")\n",
        "print(response)\n",
        "#print(response.text)\n",
        "recOnSuccess = json.loads(response.text)\n",
        "pprint.pprint(json.dumps(recOnSuccess,indent=4))\n"
      ],
      "execution_count": 144,
      "outputs": [
        {
          "output_type": "stream",
          "text": [
            "<Response [200]>\n",
            "('[\\n'\n",
            " '    {\\n'\n",
            " '        \"userId\": 1,\\n'\n",
            " '        \"id\": 1,\\n'\n",
            " '        \"title\": \"delectus aut autem\",\\n'\n",
            " '        \"completed\": false\\n'\n",
            " '    },\\n'\n",
            " '    {\\n'\n",
            " '        \"userId\": 1,\\n'\n",
            " '        \"id\": 2,\\n'\n",
            " '        \"title\": \"quis ut nam facilis et officia qui\",\\n'\n",
            " '        \"completed\": false\\n'\n",
            " '    },\\n'\n",
            " '    {\\n'\n",
            " '        \"userId\": 1,\\n'\n",
            " '        \"id\": 3,\\n'\n",
            " '        \"title\": \"fugiat veniam minus\",\\n'\n",
            " '        \"completed\": false\\n'\n",
            " '    },\\n'\n",
            " '    {\\n'\n",
            " '        \"userId\": 1,\\n'\n",
            " '        \"id\": 4,\\n'\n",
            " '        \"title\": \"et porro tempora\",\\n'\n",
            " '        \"completed\": true\\n'\n",
            " '    },\\n'\n",
            " '    {\\n'\n",
            " '        \"userId\": 1,\\n'\n",
            " '        \"id\": 5,\\n'\n",
            " '        \"title\": \"laboriosam mollitia et enim quasi adipisci quia provident '\n",
            " 'illum\",\\n'\n",
            " '        \"completed\": false\\n'\n",
            " '    },\\n'\n",
            " '    {\\n'\n",
            " '        \"userId\": 1,\\n'\n",
            " '        \"id\": 6,\\n'\n",
            " '        \"title\": \"qui ullam ratione quibusdam voluptatem quia omnis\",\\n'\n",
            " '        \"completed\": false\\n'\n",
            " '    },\\n'\n",
            " '    {\\n'\n",
            " '        \"userId\": 1,\\n'\n",
            " '        \"id\": 7,\\n'\n",
            " '        \"title\": \"illo expedita consequatur quia in\",\\n'\n",
            " '        \"completed\": false\\n'\n",
            " '    },\\n'\n",
            " '    {\\n'\n",
            " '        \"userId\": 1,\\n'\n",
            " '        \"id\": 8,\\n'\n",
            " '        \"title\": \"quo adipisci enim quam ut ab\",\\n'\n",
            " '        \"completed\": true\\n'\n",
            " '    },\\n'\n",
            " '    {\\n'\n",
            " '        \"userId\": 1,\\n'\n",
            " '        \"id\": 9,\\n'\n",
            " '        \"title\": \"molestiae perspiciatis ipsa\",\\n'\n",
            " '        \"completed\": false\\n'\n",
            " '    },\\n'\n",
            " '    {\\n'\n",
            " '        \"userId\": 1,\\n'\n",
            " '        \"id\": 10,\\n'\n",
            " '        \"title\": \"illo est ratione doloremque quia maiores aut\",\\n'\n",
            " '        \"completed\": true\\n'\n",
            " '    },\\n'\n",
            " '    {\\n'\n",
            " '        \"userId\": 1,\\n'\n",
            " '        \"id\": 11,\\n'\n",
            " '        \"title\": \"vero rerum temporibus dolor\",\\n'\n",
            " '        \"completed\": true\\n'\n",
            " '    },\\n'\n",
            " '    {\\n'\n",
            " '        \"userId\": 1,\\n'\n",
            " '        \"id\": 12,\\n'\n",
            " '        \"title\": \"ipsa repellendus fugit nisi\",\\n'\n",
            " '        \"completed\": true\\n'\n",
            " '    },\\n'\n",
            " '    {\\n'\n",
            " '        \"userId\": 1,\\n'\n",
            " '        \"id\": 13,\\n'\n",
            " '        \"title\": \"et doloremque nulla\",\\n'\n",
            " '        \"completed\": false\\n'\n",
            " '    },\\n'\n",
            " '    {\\n'\n",
            " '        \"userId\": 1,\\n'\n",
            " '        \"id\": 14,\\n'\n",
            " '        \"title\": \"repellendus sunt dolores architecto voluptatum\",\\n'\n",
            " '        \"completed\": true\\n'\n",
            " '    },\\n'\n",
            " '    {\\n'\n",
            " '        \"userId\": 1,\\n'\n",
            " '        \"id\": 15,\\n'\n",
            " '        \"title\": \"ab voluptatum amet voluptas\",\\n'\n",
            " '        \"completed\": true\\n'\n",
            " '    },\\n'\n",
            " '    {\\n'\n",
            " '        \"userId\": 1,\\n'\n",
            " '        \"id\": 16,\\n'\n",
            " '        \"title\": \"accusamus eos facilis sint et aut voluptatem\",\\n'\n",
            " '        \"completed\": true\\n'\n",
            " '    },\\n'\n",
            " '    {\\n'\n",
            " '        \"userId\": 1,\\n'\n",
            " '        \"id\": 17,\\n'\n",
            " '        \"title\": \"quo laboriosam deleniti aut qui\",\\n'\n",
            " '        \"completed\": true\\n'\n",
            " '    },\\n'\n",
            " '    {\\n'\n",
            " '        \"userId\": 1,\\n'\n",
            " '        \"id\": 18,\\n'\n",
            " '        \"title\": \"dolorum est consequatur ea mollitia in culpa\",\\n'\n",
            " '        \"completed\": false\\n'\n",
            " '    },\\n'\n",
            " '    {\\n'\n",
            " '        \"userId\": 1,\\n'\n",
            " '        \"id\": 19,\\n'\n",
            " '        \"title\": \"molestiae ipsa aut voluptatibus pariatur dolor nihil\",\\n'\n",
            " '        \"completed\": true\\n'\n",
            " '    },\\n'\n",
            " '    {\\n'\n",
            " '        \"userId\": 1,\\n'\n",
            " '        \"id\": 20,\\n'\n",
            " '        \"title\": \"ullam nobis libero sapiente ad optio sint\",\\n'\n",
            " '        \"completed\": true\\n'\n",
            " '    },\\n'\n",
            " '    {\\n'\n",
            " '        \"userId\": 2,\\n'\n",
            " '        \"id\": 21,\\n'\n",
            " '        \"title\": \"suscipit repellat esse quibusdam voluptatem incidunt\",\\n'\n",
            " '        \"completed\": false\\n'\n",
            " '    },\\n'\n",
            " '    {\\n'\n",
            " '        \"userId\": 2,\\n'\n",
            " '        \"id\": 22,\\n'\n",
            " '        \"title\": \"distinctio vitae autem nihil ut molestias quo\",\\n'\n",
            " '        \"completed\": true\\n'\n",
            " '    },\\n'\n",
            " '    {\\n'\n",
            " '        \"userId\": 2,\\n'\n",
            " '        \"id\": 23,\\n'\n",
            " '        \"title\": \"et itaque necessitatibus maxime molestiae qui quas '\n",
            " 'velit\",\\n'\n",
            " '        \"completed\": false\\n'\n",
            " '    },\\n'\n",
            " '    {\\n'\n",
            " '        \"userId\": 2,\\n'\n",
            " '        \"id\": 24,\\n'\n",
            " '        \"title\": \"adipisci non ad dicta qui amet quaerat doloribus ea\",\\n'\n",
            " '        \"completed\": false\\n'\n",
            " '    },\\n'\n",
            " '    {\\n'\n",
            " '        \"userId\": 2,\\n'\n",
            " '        \"id\": 25,\\n'\n",
            " '        \"title\": \"voluptas quo tenetur perspiciatis explicabo natus\",\\n'\n",
            " '        \"completed\": true\\n'\n",
            " '    },\\n'\n",
            " '    {\\n'\n",
            " '        \"userId\": 2,\\n'\n",
            " '        \"id\": 26,\\n'\n",
            " '        \"title\": \"aliquam aut quasi\",\\n'\n",
            " '        \"completed\": true\\n'\n",
            " '    },\\n'\n",
            " '    {\\n'\n",
            " '        \"userId\": 2,\\n'\n",
            " '        \"id\": 27,\\n'\n",
            " '        \"title\": \"veritatis pariatur delectus\",\\n'\n",
            " '        \"completed\": true\\n'\n",
            " '    },\\n'\n",
            " '    {\\n'\n",
            " '        \"userId\": 2,\\n'\n",
            " '        \"id\": 28,\\n'\n",
            " '        \"title\": \"nesciunt totam sit blanditiis sit\",\\n'\n",
            " '        \"completed\": false\\n'\n",
            " '    },\\n'\n",
            " '    {\\n'\n",
            " '        \"userId\": 2,\\n'\n",
            " '        \"id\": 29,\\n'\n",
            " '        \"title\": \"laborum aut in quam\",\\n'\n",
            " '        \"completed\": false\\n'\n",
            " '    },\\n'\n",
            " '    {\\n'\n",
            " '        \"userId\": 2,\\n'\n",
            " '        \"id\": 30,\\n'\n",
            " '        \"title\": \"nemo perspiciatis repellat ut dolor libero commodi '\n",
            " 'blanditiis omnis\",\\n'\n",
            " '        \"completed\": true\\n'\n",
            " '    },\\n'\n",
            " '    {\\n'\n",
            " '        \"userId\": 2,\\n'\n",
            " '        \"id\": 31,\\n'\n",
            " '        \"title\": \"repudiandae totam in est sint facere fuga\",\\n'\n",
            " '        \"completed\": false\\n'\n",
            " '    },\\n'\n",
            " '    {\\n'\n",
            " '        \"userId\": 2,\\n'\n",
            " '        \"id\": 32,\\n'\n",
            " '        \"title\": \"earum doloribus ea doloremque quis\",\\n'\n",
            " '        \"completed\": false\\n'\n",
            " '    },\\n'\n",
            " '    {\\n'\n",
            " '        \"userId\": 2,\\n'\n",
            " '        \"id\": 33,\\n'\n",
            " '        \"title\": \"sint sit aut vero\",\\n'\n",
            " '        \"completed\": false\\n'\n",
            " '    },\\n'\n",
            " '    {\\n'\n",
            " '        \"userId\": 2,\\n'\n",
            " '        \"id\": 34,\\n'\n",
            " '        \"title\": \"porro aut necessitatibus eaque distinctio\",\\n'\n",
            " '        \"completed\": false\\n'\n",
            " '    },\\n'\n",
            " '    {\\n'\n",
            " '        \"userId\": 2,\\n'\n",
            " '        \"id\": 35,\\n'\n",
            " '        \"title\": \"repellendus veritatis molestias dicta incidunt\",\\n'\n",
            " '        \"completed\": true\\n'\n",
            " '    },\\n'\n",
            " '    {\\n'\n",
            " '        \"userId\": 2,\\n'\n",
            " '        \"id\": 36,\\n'\n",
            " '        \"title\": \"excepturi deleniti adipisci voluptatem et neque optio '\n",
            " 'illum ad\",\\n'\n",
            " '        \"completed\": true\\n'\n",
            " '    },\\n'\n",
            " '    {\\n'\n",
            " '        \"userId\": 2,\\n'\n",
            " '        \"id\": 37,\\n'\n",
            " '        \"title\": \"sunt cum tempora\",\\n'\n",
            " '        \"completed\": false\\n'\n",
            " '    },\\n'\n",
            " '    {\\n'\n",
            " '        \"userId\": 2,\\n'\n",
            " '        \"id\": 38,\\n'\n",
            " '        \"title\": \"totam quia non\",\\n'\n",
            " '        \"completed\": false\\n'\n",
            " '    },\\n'\n",
            " '    {\\n'\n",
            " '        \"userId\": 2,\\n'\n",
            " '        \"id\": 39,\\n'\n",
            " '        \"title\": \"doloremque quibusdam asperiores libero corrupti illum qui '\n",
            " 'omnis\",\\n'\n",
            " '        \"completed\": false\\n'\n",
            " '    },\\n'\n",
            " '    {\\n'\n",
            " '        \"userId\": 2,\\n'\n",
            " '        \"id\": 40,\\n'\n",
            " '        \"title\": \"totam atque quo nesciunt\",\\n'\n",
            " '        \"completed\": true\\n'\n",
            " '    },\\n'\n",
            " '    {\\n'\n",
            " '        \"userId\": 3,\\n'\n",
            " '        \"id\": 41,\\n'\n",
            " '        \"title\": \"aliquid amet impedit consequatur aspernatur placeat eaque '\n",
            " 'fugiat suscipit\",\\n'\n",
            " '        \"completed\": false\\n'\n",
            " '    },\\n'\n",
            " '    {\\n'\n",
            " '        \"userId\": 3,\\n'\n",
            " '        \"id\": 42,\\n'\n",
            " '        \"title\": \"rerum perferendis error quia ut eveniet\",\\n'\n",
            " '        \"completed\": false\\n'\n",
            " '    },\\n'\n",
            " '    {\\n'\n",
            " '        \"userId\": 3,\\n'\n",
            " '        \"id\": 43,\\n'\n",
            " '        \"title\": \"tempore ut sint quis recusandae\",\\n'\n",
            " '        \"completed\": true\\n'\n",
            " '    },\\n'\n",
            " '    {\\n'\n",
            " '        \"userId\": 3,\\n'\n",
            " '        \"id\": 44,\\n'\n",
            " '        \"title\": \"cum debitis quis accusamus doloremque ipsa natus sapiente '\n",
            " 'omnis\",\\n'\n",
            " '        \"completed\": true\\n'\n",
            " '    },\\n'\n",
            " '    {\\n'\n",
            " '        \"userId\": 3,\\n'\n",
            " '        \"id\": 45,\\n'\n",
            " '        \"title\": \"velit soluta adipisci molestias reiciendis harum\",\\n'\n",
            " '        \"completed\": false\\n'\n",
            " '    },\\n'\n",
            " '    {\\n'\n",
            " '        \"userId\": 3,\\n'\n",
            " '        \"id\": 46,\\n'\n",
            " '        \"title\": \"vel voluptatem repellat nihil placeat corporis\",\\n'\n",
            " '        \"completed\": false\\n'\n",
            " '    },\\n'\n",
            " '    {\\n'\n",
            " '        \"userId\": 3,\\n'\n",
            " '        \"id\": 47,\\n'\n",
            " '        \"title\": \"nam qui rerum fugiat accusamus\",\\n'\n",
            " '        \"completed\": false\\n'\n",
            " '    },\\n'\n",
            " '    {\\n'\n",
            " '        \"userId\": 3,\\n'\n",
            " '        \"id\": 48,\\n'\n",
            " '        \"title\": \"sit reprehenderit omnis quia\",\\n'\n",
            " '        \"completed\": false\\n'\n",
            " '    },\\n'\n",
            " '    {\\n'\n",
            " '        \"userId\": 3,\\n'\n",
            " '        \"id\": 49,\\n'\n",
            " '        \"title\": \"ut necessitatibus aut maiores debitis officia blanditiis '\n",
            " 'velit et\",\\n'\n",
            " '        \"completed\": false\\n'\n",
            " '    },\\n'\n",
            " '    {\\n'\n",
            " '        \"userId\": 3,\\n'\n",
            " '        \"id\": 50,\\n'\n",
            " '        \"title\": \"cupiditate necessitatibus ullam aut quis dolor '\n",
            " 'voluptate\",\\n'\n",
            " '        \"completed\": true\\n'\n",
            " '    },\\n'\n",
            " '    {\\n'\n",
            " '        \"userId\": 3,\\n'\n",
            " '        \"id\": 51,\\n'\n",
            " '        \"title\": \"distinctio exercitationem ab doloribus\",\\n'\n",
            " '        \"completed\": false\\n'\n",
            " '    },\\n'\n",
            " '    {\\n'\n",
            " '        \"userId\": 3,\\n'\n",
            " '        \"id\": 52,\\n'\n",
            " '        \"title\": \"nesciunt dolorum quis recusandae ad pariatur ratione\",\\n'\n",
            " '        \"completed\": false\\n'\n",
            " '    },\\n'\n",
            " '    {\\n'\n",
            " '        \"userId\": 3,\\n'\n",
            " '        \"id\": 53,\\n'\n",
            " '        \"title\": \"qui labore est occaecati recusandae aliquid quam\",\\n'\n",
            " '        \"completed\": false\\n'\n",
            " '    },\\n'\n",
            " '    {\\n'\n",
            " '        \"userId\": 3,\\n'\n",
            " '        \"id\": 54,\\n'\n",
            " '        \"title\": \"quis et est ut voluptate quam dolor\",\\n'\n",
            " '        \"completed\": true\\n'\n",
            " '    },\\n'\n",
            " '    {\\n'\n",
            " '        \"userId\": 3,\\n'\n",
            " '        \"id\": 55,\\n'\n",
            " '        \"title\": \"voluptatum omnis minima qui occaecati provident nulla '\n",
            " 'voluptatem ratione\",\\n'\n",
            " '        \"completed\": true\\n'\n",
            " '    },\\n'\n",
            " '    {\\n'\n",
            " '        \"userId\": 3,\\n'\n",
            " '        \"id\": 56,\\n'\n",
            " '        \"title\": \"deleniti ea temporibus enim\",\\n'\n",
            " '        \"completed\": true\\n'\n",
            " '    },\\n'\n",
            " '    {\\n'\n",
            " '        \"userId\": 3,\\n'\n",
            " '        \"id\": 57,\\n'\n",
            " '        \"title\": \"pariatur et magnam ea doloribus similique voluptatem rerum '\n",
            " 'quia\",\\n'\n",
            " '        \"completed\": false\\n'\n",
            " '    },\\n'\n",
            " '    {\\n'\n",
            " '        \"userId\": 3,\\n'\n",
            " '        \"id\": 58,\\n'\n",
            " '        \"title\": \"est dicta totam qui explicabo doloribus qui dignissimos\",\\n'\n",
            " '        \"completed\": false\\n'\n",
            " '    },\\n'\n",
            " '    {\\n'\n",
            " '        \"userId\": 3,\\n'\n",
            " '        \"id\": 59,\\n'\n",
            " '        \"title\": \"perspiciatis velit id laborum placeat iusto et aliquam '\n",
            " 'odio\",\\n'\n",
            " '        \"completed\": false\\n'\n",
            " '    },\\n'\n",
            " '    {\\n'\n",
            " '        \"userId\": 3,\\n'\n",
            " '        \"id\": 60,\\n'\n",
            " '        \"title\": \"et sequi qui architecto ut adipisci\",\\n'\n",
            " '        \"completed\": true\\n'\n",
            " '    },\\n'\n",
            " '    {\\n'\n",
            " '        \"userId\": 4,\\n'\n",
            " '        \"id\": 61,\\n'\n",
            " '        \"title\": \"odit optio omnis qui sunt\",\\n'\n",
            " '        \"completed\": true\\n'\n",
            " '    },\\n'\n",
            " '    {\\n'\n",
            " '        \"userId\": 4,\\n'\n",
            " '        \"id\": 62,\\n'\n",
            " '        \"title\": \"et placeat et tempore aspernatur sint numquam\",\\n'\n",
            " '        \"completed\": false\\n'\n",
            " '    },\\n'\n",
            " '    {\\n'\n",
            " '        \"userId\": 4,\\n'\n",
            " '        \"id\": 63,\\n'\n",
            " '        \"title\": \"doloremque aut dolores quidem fuga qui nulla\",\\n'\n",
            " '        \"completed\": true\\n'\n",
            " '    },\\n'\n",
            " '    {\\n'\n",
            " '        \"userId\": 4,\\n'\n",
            " '        \"id\": 64,\\n'\n",
            " '        \"title\": \"voluptas consequatur qui ut quia magnam nemo esse\",\\n'\n",
            " '        \"completed\": false\\n'\n",
            " '    },\\n'\n",
            " '    {\\n'\n",
            " '        \"userId\": 4,\\n'\n",
            " '        \"id\": 65,\\n'\n",
            " '        \"title\": \"fugiat pariatur ratione ut asperiores necessitatibus '\n",
            " 'magni\",\\n'\n",
            " '        \"completed\": false\\n'\n",
            " '    },\\n'\n",
            " '    {\\n'\n",
            " '        \"userId\": 4,\\n'\n",
            " '        \"id\": 66,\\n'\n",
            " '        \"title\": \"rerum eum molestias autem voluptatum sit optio\",\\n'\n",
            " '        \"completed\": false\\n'\n",
            " '    },\\n'\n",
            " '    {\\n'\n",
            " '        \"userId\": 4,\\n'\n",
            " '        \"id\": 67,\\n'\n",
            " '        \"title\": \"quia voluptatibus voluptatem quos similique maiores '\n",
            " 'repellat\",\\n'\n",
            " '        \"completed\": false\\n'\n",
            " '    },\\n'\n",
            " '    {\\n'\n",
            " '        \"userId\": 4,\\n'\n",
            " '        \"id\": 68,\\n'\n",
            " '        \"title\": \"aut id perspiciatis voluptatem iusto\",\\n'\n",
            " '        \"completed\": false\\n'\n",
            " '    },\\n'\n",
            " '    {\\n'\n",
            " '        \"userId\": 4,\\n'\n",
            " '        \"id\": 69,\\n'\n",
            " '        \"title\": \"doloribus sint dolorum ab adipisci itaque dignissimos '\n",
            " 'aliquam suscipit\",\\n'\n",
            " '        \"completed\": false\\n'\n",
            " '    },\\n'\n",
            " '    {\\n'\n",
            " '        \"userId\": 4,\\n'\n",
            " '        \"id\": 70,\\n'\n",
            " '        \"title\": \"ut sequi accusantium et mollitia delectus sunt\",\\n'\n",
            " '        \"completed\": false\\n'\n",
            " '    },\\n'\n",
            " '    {\\n'\n",
            " '        \"userId\": 4,\\n'\n",
            " '        \"id\": 71,\\n'\n",
            " '        \"title\": \"aut velit saepe ullam\",\\n'\n",
            " '        \"completed\": false\\n'\n",
            " '    },\\n'\n",
            " '    {\\n'\n",
            " '        \"userId\": 4,\\n'\n",
            " '        \"id\": 72,\\n'\n",
            " '        \"title\": \"praesentium facilis facere quis harum voluptatibus '\n",
            " 'voluptatem eum\",\\n'\n",
            " '        \"completed\": false\\n'\n",
            " '    },\\n'\n",
            " '    {\\n'\n",
            " '        \"userId\": 4,\\n'\n",
            " '        \"id\": 73,\\n'\n",
            " '        \"title\": \"sint amet quia totam corporis qui exercitationem '\n",
            " 'commodi\",\\n'\n",
            " '        \"completed\": true\\n'\n",
            " '    },\\n'\n",
            " '    {\\n'\n",
            " '        \"userId\": 4,\\n'\n",
            " '        \"id\": 74,\\n'\n",
            " '        \"title\": \"expedita tempore nobis eveniet laborum maiores\",\\n'\n",
            " '        \"completed\": false\\n'\n",
            " '    },\\n'\n",
            " '    {\\n'\n",
            " '        \"userId\": 4,\\n'\n",
            " '        \"id\": 75,\\n'\n",
            " '        \"title\": \"occaecati adipisci est possimus totam\",\\n'\n",
            " '        \"completed\": false\\n'\n",
            " '    },\\n'\n",
            " '    {\\n'\n",
            " '        \"userId\": 4,\\n'\n",
            " '        \"id\": 76,\\n'\n",
            " '        \"title\": \"sequi dolorem sed\",\\n'\n",
            " '        \"completed\": true\\n'\n",
            " '    },\\n'\n",
            " '    {\\n'\n",
            " '        \"userId\": 4,\\n'\n",
            " '        \"id\": 77,\\n'\n",
            " '        \"title\": \"maiores aut nesciunt delectus exercitationem vel assumenda '\n",
            " 'eligendi at\",\\n'\n",
            " '        \"completed\": false\\n'\n",
            " '    },\\n'\n",
            " '    {\\n'\n",
            " '        \"userId\": 4,\\n'\n",
            " '        \"id\": 78,\\n'\n",
            " '        \"title\": \"reiciendis est magnam amet nemo iste recusandae impedit '\n",
            " 'quaerat\",\\n'\n",
            " '        \"completed\": false\\n'\n",
            " '    },\\n'\n",
            " '    {\\n'\n",
            " '        \"userId\": 4,\\n'\n",
            " '        \"id\": 79,\\n'\n",
            " '        \"title\": \"eum ipsa maxime ut\",\\n'\n",
            " '        \"completed\": true\\n'\n",
            " '    },\\n'\n",
            " '    {\\n'\n",
            " '        \"userId\": 4,\\n'\n",
            " '        \"id\": 80,\\n'\n",
            " '        \"title\": \"tempore molestias dolores rerum sequi voluptates ipsum '\n",
            " 'consequatur\",\\n'\n",
            " '        \"completed\": true\\n'\n",
            " '    },\\n'\n",
            " '    {\\n'\n",
            " '        \"userId\": 5,\\n'\n",
            " '        \"id\": 81,\\n'\n",
            " '        \"title\": \"suscipit qui totam\",\\n'\n",
            " '        \"completed\": true\\n'\n",
            " '    },\\n'\n",
            " '    {\\n'\n",
            " '        \"userId\": 5,\\n'\n",
            " '        \"id\": 82,\\n'\n",
            " '        \"title\": \"voluptates eum voluptas et dicta\",\\n'\n",
            " '        \"completed\": false\\n'\n",
            " '    },\\n'\n",
            " '    {\\n'\n",
            " '        \"userId\": 5,\\n'\n",
            " '        \"id\": 83,\\n'\n",
            " '        \"title\": \"quidem at rerum quis ex aut sit quam\",\\n'\n",
            " '        \"completed\": true\\n'\n",
            " '    },\\n'\n",
            " '    {\\n'\n",
            " '        \"userId\": 5,\\n'\n",
            " '        \"id\": 84,\\n'\n",
            " '        \"title\": \"sunt veritatis ut voluptate\",\\n'\n",
            " '        \"completed\": false\\n'\n",
            " '    },\\n'\n",
            " '    {\\n'\n",
            " '        \"userId\": 5,\\n'\n",
            " '        \"id\": 85,\\n'\n",
            " '        \"title\": \"et quia ad iste a\",\\n'\n",
            " '        \"completed\": true\\n'\n",
            " '    },\\n'\n",
            " '    {\\n'\n",
            " '        \"userId\": 5,\\n'\n",
            " '        \"id\": 86,\\n'\n",
            " '        \"title\": \"incidunt ut saepe autem\",\\n'\n",
            " '        \"completed\": true\\n'\n",
            " '    },\\n'\n",
            " '    {\\n'\n",
            " '        \"userId\": 5,\\n'\n",
            " '        \"id\": 87,\\n'\n",
            " '        \"title\": \"laudantium quae eligendi consequatur quia et vero autem\",\\n'\n",
            " '        \"completed\": true\\n'\n",
            " '    },\\n'\n",
            " '    {\\n'\n",
            " '        \"userId\": 5,\\n'\n",
            " '        \"id\": 88,\\n'\n",
            " '        \"title\": \"vitae aut excepturi laboriosam sint aliquam et et '\n",
            " 'accusantium\",\\n'\n",
            " '        \"completed\": false\\n'\n",
            " '    },\\n'\n",
            " '    {\\n'\n",
            " '        \"userId\": 5,\\n'\n",
            " '        \"id\": 89,\\n'\n",
            " '        \"title\": \"sequi ut omnis et\",\\n'\n",
            " '        \"completed\": true\\n'\n",
            " '    },\\n'\n",
            " '    {\\n'\n",
            " '        \"userId\": 5,\\n'\n",
            " '        \"id\": 90,\\n'\n",
            " '        \"title\": \"molestiae nisi accusantium tenetur dolorem et\",\\n'\n",
            " '        \"completed\": true\\n'\n",
            " '    },\\n'\n",
            " '    {\\n'\n",
            " '        \"userId\": 5,\\n'\n",
            " '        \"id\": 91,\\n'\n",
            " '        \"title\": \"nulla quis consequatur saepe qui id expedita\",\\n'\n",
            " '        \"completed\": true\\n'\n",
            " '    },\\n'\n",
            " '    {\\n'\n",
            " '        \"userId\": 5,\\n'\n",
            " '        \"id\": 92,\\n'\n",
            " '        \"title\": \"in omnis laboriosam\",\\n'\n",
            " '        \"completed\": true\\n'\n",
            " '    },\\n'\n",
            " '    {\\n'\n",
            " '        \"userId\": 5,\\n'\n",
            " '        \"id\": 93,\\n'\n",
            " '        \"title\": \"odio iure consequatur molestiae quibusdam necessitatibus '\n",
            " 'quia sint\",\\n'\n",
            " '        \"completed\": true\\n'\n",
            " '    },\\n'\n",
            " '    {\\n'\n",
            " '        \"userId\": 5,\\n'\n",
            " '        \"id\": 94,\\n'\n",
            " '        \"title\": \"facilis modi saepe mollitia\",\\n'\n",
            " '        \"completed\": false\\n'\n",
            " '    },\\n'\n",
            " '    {\\n'\n",
            " '        \"userId\": 5,\\n'\n",
            " '        \"id\": 95,\\n'\n",
            " '        \"title\": \"vel nihil et molestiae iusto assumenda nemo quo ut\",\\n'\n",
            " '        \"completed\": true\\n'\n",
            " '    },\\n'\n",
            " '    {\\n'\n",
            " '        \"userId\": 5,\\n'\n",
            " '        \"id\": 96,\\n'\n",
            " '        \"title\": \"nobis suscipit ducimus enim asperiores voluptas\",\\n'\n",
            " '        \"completed\": false\\n'\n",
            " '    },\\n'\n",
            " '    {\\n'\n",
            " '        \"userId\": 5,\\n'\n",
            " '        \"id\": 97,\\n'\n",
            " '        \"title\": \"dolorum laboriosam eos qui iure aliquam\",\\n'\n",
            " '        \"completed\": false\\n'\n",
            " '    },\\n'\n",
            " '    {\\n'\n",
            " '        \"userId\": 5,\\n'\n",
            " '        \"id\": 98,\\n'\n",
            " '        \"title\": \"debitis accusantium ut quo facilis nihil quis sapiente '\n",
            " 'necessitatibus\",\\n'\n",
            " '        \"completed\": true\\n'\n",
            " '    },\\n'\n",
            " '    {\\n'\n",
            " '        \"userId\": 5,\\n'\n",
            " '        \"id\": 99,\\n'\n",
            " '        \"title\": \"neque voluptates ratione\",\\n'\n",
            " '        \"completed\": false\\n'\n",
            " '    },\\n'\n",
            " '    {\\n'\n",
            " '        \"userId\": 5,\\n'\n",
            " '        \"id\": 100,\\n'\n",
            " '        \"title\": \"excepturi a et neque qui expedita vel voluptate\",\\n'\n",
            " '        \"completed\": false\\n'\n",
            " '    },\\n'\n",
            " '    {\\n'\n",
            " '        \"userId\": 6,\\n'\n",
            " '        \"id\": 101,\\n'\n",
            " '        \"title\": \"explicabo enim cumque porro aperiam occaecati minima\",\\n'\n",
            " '        \"completed\": false\\n'\n",
            " '    },\\n'\n",
            " '    {\\n'\n",
            " '        \"userId\": 6,\\n'\n",
            " '        \"id\": 102,\\n'\n",
            " '        \"title\": \"sed ab consequatur\",\\n'\n",
            " '        \"completed\": false\\n'\n",
            " '    },\\n'\n",
            " '    {\\n'\n",
            " '        \"userId\": 6,\\n'\n",
            " '        \"id\": 103,\\n'\n",
            " '        \"title\": \"non sunt delectus illo nulla tenetur enim omnis\",\\n'\n",
            " '        \"completed\": false\\n'\n",
            " '    },\\n'\n",
            " '    {\\n'\n",
            " '        \"userId\": 6,\\n'\n",
            " '        \"id\": 104,\\n'\n",
            " '        \"title\": \"excepturi non laudantium quo\",\\n'\n",
            " '        \"completed\": false\\n'\n",
            " '    },\\n'\n",
            " '    {\\n'\n",
            " '        \"userId\": 6,\\n'\n",
            " '        \"id\": 105,\\n'\n",
            " '        \"title\": \"totam quia dolorem et illum repellat voluptas optio\",\\n'\n",
            " '        \"completed\": true\\n'\n",
            " '    },\\n'\n",
            " '    {\\n'\n",
            " '        \"userId\": 6,\\n'\n",
            " '        \"id\": 106,\\n'\n",
            " '        \"title\": \"ad illo quis voluptatem temporibus\",\\n'\n",
            " '        \"completed\": true\\n'\n",
            " '    },\\n'\n",
            " '    {\\n'\n",
            " '        \"userId\": 6,\\n'\n",
            " '        \"id\": 107,\\n'\n",
            " '        \"title\": \"praesentium facilis omnis laudantium fugit ad iusto nihil '\n",
            " 'nesciunt\",\\n'\n",
            " '        \"completed\": false\\n'\n",
            " '    },\\n'\n",
            " '    {\\n'\n",
            " '        \"userId\": 6,\\n'\n",
            " '        \"id\": 108,\\n'\n",
            " '        \"title\": \"a eos eaque nihil et exercitationem incidunt delectus\",\\n'\n",
            " '        \"completed\": true\\n'\n",
            " '    },\\n'\n",
            " '    {\\n'\n",
            " '        \"userId\": 6,\\n'\n",
            " '        \"id\": 109,\\n'\n",
            " '        \"title\": \"autem temporibus harum quisquam in culpa\",\\n'\n",
            " '        \"completed\": true\\n'\n",
            " '    },\\n'\n",
            " '    {\\n'\n",
            " '        \"userId\": 6,\\n'\n",
            " '        \"id\": 110,\\n'\n",
            " '        \"title\": \"aut aut ea corporis\",\\n'\n",
            " '        \"completed\": true\\n'\n",
            " '    },\\n'\n",
            " '    {\\n'\n",
            " '        \"userId\": 6,\\n'\n",
            " '        \"id\": 111,\\n'\n",
            " '        \"title\": \"magni accusantium labore et id quis provident\",\\n'\n",
            " '        \"completed\": false\\n'\n",
            " '    },\\n'\n",
            " '    {\\n'\n",
            " '        \"userId\": 6,\\n'\n",
            " '        \"id\": 112,\\n'\n",
            " '        \"title\": \"consectetur impedit quisquam qui deserunt non rerum '\n",
            " 'consequuntur eius\",\\n'\n",
            " '        \"completed\": false\\n'\n",
            " '    },\\n'\n",
            " '    {\\n'\n",
            " '        \"userId\": 6,\\n'\n",
            " '        \"id\": 113,\\n'\n",
            " '        \"title\": \"quia atque aliquam sunt impedit voluptatum rerum assumenda '\n",
            " 'nisi\",\\n'\n",
            " '        \"completed\": false\\n'\n",
            " '    },\\n'\n",
            " '    {\\n'\n",
            " '        \"userId\": 6,\\n'\n",
            " '        \"id\": 114,\\n'\n",
            " '        \"title\": \"cupiditate quos possimus corporis quisquam exercitationem '\n",
            " 'beatae\",\\n'\n",
            " '        \"completed\": false\\n'\n",
            " '    },\\n'\n",
            " '    {\\n'\n",
            " '        \"userId\": 6,\\n'\n",
            " '        \"id\": 115,\\n'\n",
            " '        \"title\": \"sed et ea eum\",\\n'\n",
            " '        \"completed\": false\\n'\n",
            " '    },\\n'\n",
            " '    {\\n'\n",
            " '        \"userId\": 6,\\n'\n",
            " '        \"id\": 116,\\n'\n",
            " '        \"title\": \"ipsa dolores vel facilis ut\",\\n'\n",
            " '        \"completed\": true\\n'\n",
            " '    },\\n'\n",
            " '    {\\n'\n",
            " '        \"userId\": 6,\\n'\n",
            " '        \"id\": 117,\\n'\n",
            " '        \"title\": \"sequi quae est et qui qui eveniet asperiores\",\\n'\n",
            " '        \"completed\": false\\n'\n",
            " '    },\\n'\n",
            " '    {\\n'\n",
            " '        \"userId\": 6,\\n'\n",
            " '        \"id\": 118,\\n'\n",
            " '        \"title\": \"quia modi consequatur vero fugiat\",\\n'\n",
            " '        \"completed\": false\\n'\n",
            " '    },\\n'\n",
            " '    {\\n'\n",
            " '        \"userId\": 6,\\n'\n",
            " '        \"id\": 119,\\n'\n",
            " '        \"title\": \"corporis ducimus ea perspiciatis iste\",\\n'\n",
            " '        \"completed\": false\\n'\n",
            " '    },\\n'\n",
            " '    {\\n'\n",
            " '        \"userId\": 6,\\n'\n",
            " '        \"id\": 120,\\n'\n",
            " '        \"title\": \"dolorem laboriosam vel voluptas et aliquam quasi\",\\n'\n",
            " '        \"completed\": false\\n'\n",
            " '    },\\n'\n",
            " '    {\\n'\n",
            " '        \"userId\": 7,\\n'\n",
            " '        \"id\": 121,\\n'\n",
            " '        \"title\": \"inventore aut nihil minima laudantium hic qui omnis\",\\n'\n",
            " '        \"completed\": true\\n'\n",
            " '    },\\n'\n",
            " '    {\\n'\n",
            " '        \"userId\": 7,\\n'\n",
            " '        \"id\": 122,\\n'\n",
            " '        \"title\": \"provident aut nobis culpa\",\\n'\n",
            " '        \"completed\": true\\n'\n",
            " '    },\\n'\n",
            " '    {\\n'\n",
            " '        \"userId\": 7,\\n'\n",
            " '        \"id\": 123,\\n'\n",
            " '        \"title\": \"esse et quis iste est earum aut impedit\",\\n'\n",
            " '        \"completed\": false\\n'\n",
            " '    },\\n'\n",
            " '    {\\n'\n",
            " '        \"userId\": 7,\\n'\n",
            " '        \"id\": 124,\\n'\n",
            " '        \"title\": \"qui consectetur id\",\\n'\n",
            " '        \"completed\": false\\n'\n",
            " '    },\\n'\n",
            " '    {\\n'\n",
            " '        \"userId\": 7,\\n'\n",
            " '        \"id\": 125,\\n'\n",
            " '        \"title\": \"aut quasi autem iste tempore illum possimus\",\\n'\n",
            " '        \"completed\": false\\n'\n",
            " '    },\\n'\n",
            " '    {\\n'\n",
            " '        \"userId\": 7,\\n'\n",
            " '        \"id\": 126,\\n'\n",
            " '        \"title\": \"ut asperiores perspiciatis veniam ipsum rerum saepe\",\\n'\n",
            " '        \"completed\": true\\n'\n",
            " '    },\\n'\n",
            " '    {\\n'\n",
            " '        \"userId\": 7,\\n'\n",
            " '        \"id\": 127,\\n'\n",
            " '        \"title\": \"voluptatem libero consectetur rerum ut\",\\n'\n",
            " '        \"completed\": true\\n'\n",
            " '    },\\n'\n",
            " '    {\\n'\n",
            " '        \"userId\": 7,\\n'\n",
            " '        \"id\": 128,\\n'\n",
            " '        \"title\": \"eius omnis est qui voluptatem autem\",\\n'\n",
            " '        \"completed\": false\\n'\n",
            " '    },\\n'\n",
            " '    {\\n'\n",
            " '        \"userId\": 7,\\n'\n",
            " '        \"id\": 129,\\n'\n",
            " '        \"title\": \"rerum culpa quis harum\",\\n'\n",
            " '        \"completed\": false\\n'\n",
            " '    },\\n'\n",
            " '    {\\n'\n",
            " '        \"userId\": 7,\\n'\n",
            " '        \"id\": 130,\\n'\n",
            " '        \"title\": \"nulla aliquid eveniet harum laborum libero alias ut '\n",
            " 'unde\",\\n'\n",
            " '        \"completed\": true\\n'\n",
            " '    },\\n'\n",
            " '    {\\n'\n",
            " '        \"userId\": 7,\\n'\n",
            " '        \"id\": 131,\\n'\n",
            " '        \"title\": \"qui ea incidunt quis\",\\n'\n",
            " '        \"completed\": false\\n'\n",
            " '    },\\n'\n",
            " '    {\\n'\n",
            " '        \"userId\": 7,\\n'\n",
            " '        \"id\": 132,\\n'\n",
            " '        \"title\": \"qui molestiae voluptatibus velit iure harum quisquam\",\\n'\n",
            " '        \"completed\": true\\n'\n",
            " '    },\\n'\n",
            " '    {\\n'\n",
            " '        \"userId\": 7,\\n'\n",
            " '        \"id\": 133,\\n'\n",
            " '        \"title\": \"et labore eos enim rerum consequatur sunt\",\\n'\n",
            " '        \"completed\": true\\n'\n",
            " '    },\\n'\n",
            " '    {\\n'\n",
            " '        \"userId\": 7,\\n'\n",
            " '        \"id\": 134,\\n'\n",
            " '        \"title\": \"molestiae doloribus et laborum quod ea\",\\n'\n",
            " '        \"completed\": false\\n'\n",
            " '    },\\n'\n",
            " '    {\\n'\n",
            " '        \"userId\": 7,\\n'\n",
            " '        \"id\": 135,\\n'\n",
            " '        \"title\": \"facere ipsa nam eum voluptates reiciendis vero qui\",\\n'\n",
            " '        \"completed\": false\\n'\n",
            " '    },\\n'\n",
            " '    {\\n'\n",
            " '        \"userId\": 7,\\n'\n",
            " '        \"id\": 136,\\n'\n",
            " '        \"title\": \"asperiores illo tempora fuga sed ut quasi adipisci\",\\n'\n",
            " '        \"completed\": false\\n'\n",
            " '    },\\n'\n",
            " '    {\\n'\n",
            " '        \"userId\": 7,\\n'\n",
            " '        \"id\": 137,\\n'\n",
            " '        \"title\": \"qui sit non\",\\n'\n",
            " '        \"completed\": false\\n'\n",
            " '    },\\n'\n",
            " '    {\\n'\n",
            " '        \"userId\": 7,\\n'\n",
            " '        \"id\": 138,\\n'\n",
            " '        \"title\": \"placeat minima consequatur rem qui ut\",\\n'\n",
            " '        \"completed\": true\\n'\n",
            " '    },\\n'\n",
            " '    {\\n'\n",
            " '        \"userId\": 7,\\n'\n",
            " '        \"id\": 139,\\n'\n",
            " '        \"title\": \"consequatur doloribus id possimus voluptas a voluptatem\",\\n'\n",
            " '        \"completed\": false\\n'\n",
            " '    },\\n'\n",
            " '    {\\n'\n",
            " '        \"userId\": 7,\\n'\n",
            " '        \"id\": 140,\\n'\n",
            " '        \"title\": \"aut consectetur in blanditiis deserunt quia sed '\n",
            " 'laboriosam\",\\n'\n",
            " '        \"completed\": true\\n'\n",
            " '    },\\n'\n",
            " '    {\\n'\n",
            " '        \"userId\": 8,\\n'\n",
            " '        \"id\": 141,\\n'\n",
            " '        \"title\": \"explicabo consectetur debitis voluptates quas quae culpa '\n",
            " 'rerum non\",\\n'\n",
            " '        \"completed\": true\\n'\n",
            " '    },\\n'\n",
            " '    {\\n'\n",
            " '        \"userId\": 8,\\n'\n",
            " '        \"id\": 142,\\n'\n",
            " '        \"title\": \"maiores accusantium architecto necessitatibus reiciendis '\n",
            " 'ea aut\",\\n'\n",
            " '        \"completed\": true\\n'\n",
            " '    },\\n'\n",
            " '    {\\n'\n",
            " '        \"userId\": 8,\\n'\n",
            " '        \"id\": 143,\\n'\n",
            " '        \"title\": \"eum non recusandae cupiditate animi\",\\n'\n",
            " '        \"completed\": false\\n'\n",
            " '    },\\n'\n",
            " '    {\\n'\n",
            " '        \"userId\": 8,\\n'\n",
            " '        \"id\": 144,\\n'\n",
            " '        \"title\": \"ut eum exercitationem sint\",\\n'\n",
            " '        \"completed\": false\\n'\n",
            " '    },\\n'\n",
            " '    {\\n'\n",
            " '        \"userId\": 8,\\n'\n",
            " '        \"id\": 145,\\n'\n",
            " '        \"title\": \"beatae qui ullam incidunt voluptatem non nisi aliquam\",\\n'\n",
            " '        \"completed\": false\\n'\n",
            " '    },\\n'\n",
            " '    {\\n'\n",
            " '        \"userId\": 8,\\n'\n",
            " '        \"id\": 146,\\n'\n",
            " '        \"title\": \"molestiae suscipit ratione nihil odio libero impedit vero '\n",
            " 'totam\",\\n'\n",
            " '        \"completed\": true\\n'\n",
            " '    },\\n'\n",
            " '    {\\n'\n",
            " '        \"userId\": 8,\\n'\n",
            " '        \"id\": 147,\\n'\n",
            " '        \"title\": \"eum itaque quod reprehenderit et facilis dolor autem ut\",\\n'\n",
            " '        \"completed\": true\\n'\n",
            " '    },\\n'\n",
            " '    {\\n'\n",
            " '        \"userId\": 8,\\n'\n",
            " '        \"id\": 148,\\n'\n",
            " '        \"title\": \"esse quas et quo quasi exercitationem\",\\n'\n",
            " '        \"completed\": false\\n'\n",
            " '    },\\n'\n",
            " '    {\\n'\n",
            " '        \"userId\": 8,\\n'\n",
            " '        \"id\": 149,\\n'\n",
            " '        \"title\": \"animi voluptas quod perferendis est\",\\n'\n",
            " '        \"completed\": false\\n'\n",
            " '    },\\n'\n",
            " '    {\\n'\n",
            " '        \"userId\": 8,\\n'\n",
            " '        \"id\": 150,\\n'\n",
            " '        \"title\": \"eos amet tempore laudantium fugit a\",\\n'\n",
            " '        \"completed\": false\\n'\n",
            " '    },\\n'\n",
            " '    {\\n'\n",
            " '        \"userId\": 8,\\n'\n",
            " '        \"id\": 151,\\n'\n",
            " '        \"title\": \"accusamus adipisci dicta qui quo ea explicabo sed vero\",\\n'\n",
            " '        \"completed\": true\\n'\n",
            " '    },\\n'\n",
            " '    {\\n'\n",
            " '        \"userId\": 8,\\n'\n",
            " '        \"id\": 152,\\n'\n",
            " '        \"title\": \"odit eligendi recusandae doloremque cumque non\",\\n'\n",
            " '        \"completed\": false\\n'\n",
            " '    },\\n'\n",
            " '    {\\n'\n",
            " '        \"userId\": 8,\\n'\n",
            " '        \"id\": 153,\\n'\n",
            " '        \"title\": \"ea aperiam consequatur qui repellat eos\",\\n'\n",
            " '        \"completed\": false\\n'\n",
            " '    },\\n'\n",
            " '    {\\n'\n",
            " '        \"userId\": 8,\\n'\n",
            " '        \"id\": 154,\\n'\n",
            " '        \"title\": \"rerum non ex sapiente\",\\n'\n",
            " '        \"completed\": true\\n'\n",
            " '    },\\n'\n",
            " '    {\\n'\n",
            " '        \"userId\": 8,\\n'\n",
            " '        \"id\": 155,\\n'\n",
            " '        \"title\": \"voluptatem nobis consequatur et assumenda magnam\",\\n'\n",
            " '        \"completed\": true\\n'\n",
            " '    },\\n'\n",
            " '    {\\n'\n",
            " '        \"userId\": 8,\\n'\n",
            " '        \"id\": 156,\\n'\n",
            " '        \"title\": \"nam quia quia nulla repellat assumenda quibusdam sit '\n",
            " 'nobis\",\\n'\n",
            " '        \"completed\": true\\n'\n",
            " '    },\\n'\n",
            " '    {\\n'\n",
            " '        \"userId\": 8,\\n'\n",
            " '        \"id\": 157,\\n'\n",
            " '        \"title\": \"dolorem veniam quisquam deserunt repellendus\",\\n'\n",
            " '        \"completed\": true\\n'\n",
            " '    },\\n'\n",
            " '    {\\n'\n",
            " '        \"userId\": 8,\\n'\n",
            " '        \"id\": 158,\\n'\n",
            " '        \"title\": \"debitis vitae delectus et harum accusamus aut deleniti '\n",
            " 'a\",\\n'\n",
            " '        \"completed\": true\\n'\n",
            " '    },\\n'\n",
            " '    {\\n'\n",
            " '        \"userId\": 8,\\n'\n",
            " '        \"id\": 159,\\n'\n",
            " '        \"title\": \"debitis adipisci quibusdam aliquam sed dolore ea '\n",
            " 'praesentium nobis\",\\n'\n",
            " '        \"completed\": true\\n'\n",
            " '    },\\n'\n",
            " '    {\\n'\n",
            " '        \"userId\": 8,\\n'\n",
            " '        \"id\": 160,\\n'\n",
            " '        \"title\": \"et praesentium aliquam est\",\\n'\n",
            " '        \"completed\": false\\n'\n",
            " '    },\\n'\n",
            " '    {\\n'\n",
            " '        \"userId\": 9,\\n'\n",
            " '        \"id\": 161,\\n'\n",
            " '        \"title\": \"ex hic consequuntur earum omnis alias ut occaecati '\n",
            " 'culpa\",\\n'\n",
            " '        \"completed\": true\\n'\n",
            " '    },\\n'\n",
            " '    {\\n'\n",
            " '        \"userId\": 9,\\n'\n",
            " '        \"id\": 162,\\n'\n",
            " '        \"title\": \"omnis laboriosam molestias animi sunt dolore\",\\n'\n",
            " '        \"completed\": true\\n'\n",
            " '    },\\n'\n",
            " '    {\\n'\n",
            " '        \"userId\": 9,\\n'\n",
            " '        \"id\": 163,\\n'\n",
            " '        \"title\": \"natus corrupti maxime laudantium et voluptatem laboriosam '\n",
            " 'odit\",\\n'\n",
            " '        \"completed\": false\\n'\n",
            " '    },\\n'\n",
            " '    {\\n'\n",
            " '        \"userId\": 9,\\n'\n",
            " '        \"id\": 164,\\n'\n",
            " '        \"title\": \"reprehenderit quos aut aut consequatur est sed\",\\n'\n",
            " '        \"completed\": false\\n'\n",
            " '    },\\n'\n",
            " '    {\\n'\n",
            " '        \"userId\": 9,\\n'\n",
            " '        \"id\": 165,\\n'\n",
            " '        \"title\": \"fugiat perferendis sed aut quidem\",\\n'\n",
            " '        \"completed\": false\\n'\n",
            " '    },\\n'\n",
            " '    {\\n'\n",
            " '        \"userId\": 9,\\n'\n",
            " '        \"id\": 166,\\n'\n",
            " '        \"title\": \"quos quo possimus suscipit minima ut\",\\n'\n",
            " '        \"completed\": false\\n'\n",
            " '    },\\n'\n",
            " '    {\\n'\n",
            " '        \"userId\": 9,\\n'\n",
            " '        \"id\": 167,\\n'\n",
            " '        \"title\": \"et quis minus quo a asperiores molestiae\",\\n'\n",
            " '        \"completed\": false\\n'\n",
            " '    },\\n'\n",
            " '    {\\n'\n",
            " '        \"userId\": 9,\\n'\n",
            " '        \"id\": 168,\\n'\n",
            " '        \"title\": \"recusandae quia qui sunt libero\",\\n'\n",
            " '        \"completed\": false\\n'\n",
            " '    },\\n'\n",
            " '    {\\n'\n",
            " '        \"userId\": 9,\\n'\n",
            " '        \"id\": 169,\\n'\n",
            " '        \"title\": \"ea odio perferendis officiis\",\\n'\n",
            " '        \"completed\": true\\n'\n",
            " '    },\\n'\n",
            " '    {\\n'\n",
            " '        \"userId\": 9,\\n'\n",
            " '        \"id\": 170,\\n'\n",
            " '        \"title\": \"quisquam aliquam quia doloribus aut\",\\n'\n",
            " '        \"completed\": false\\n'\n",
            " '    },\\n'\n",
            " '    {\\n'\n",
            " '        \"userId\": 9,\\n'\n",
            " '        \"id\": 171,\\n'\n",
            " '        \"title\": \"fugiat aut voluptatibus corrupti deleniti velit iste '\n",
            " 'odio\",\\n'\n",
            " '        \"completed\": true\\n'\n",
            " '    },\\n'\n",
            " '    {\\n'\n",
            " '        \"userId\": 9,\\n'\n",
            " '        \"id\": 172,\\n'\n",
            " '        \"title\": \"et provident amet rerum consectetur et voluptatum\",\\n'\n",
            " '        \"completed\": false\\n'\n",
            " '    },\\n'\n",
            " '    {\\n'\n",
            " '        \"userId\": 9,\\n'\n",
            " '        \"id\": 173,\\n'\n",
            " '        \"title\": \"harum ad aperiam quis\",\\n'\n",
            " '        \"completed\": false\\n'\n",
            " '    },\\n'\n",
            " '    {\\n'\n",
            " '        \"userId\": 9,\\n'\n",
            " '        \"id\": 174,\\n'\n",
            " '        \"title\": \"similique aut quo\",\\n'\n",
            " '        \"completed\": false\\n'\n",
            " '    },\\n'\n",
            " '    {\\n'\n",
            " '        \"userId\": 9,\\n'\n",
            " '        \"id\": 175,\\n'\n",
            " '        \"title\": \"laudantium eius officia perferendis provident perspiciatis '\n",
            " 'asperiores\",\\n'\n",
            " '        \"completed\": true\\n'\n",
            " '    },\\n'\n",
            " '    {\\n'\n",
            " '        \"userId\": 9,\\n'\n",
            " '        \"id\": 176,\\n'\n",
            " '        \"title\": \"magni soluta corrupti ut maiores rem quidem\",\\n'\n",
            " '        \"completed\": false\\n'\n",
            " '    },\\n'\n",
            " '    {\\n'\n",
            " '        \"userId\": 9,\\n'\n",
            " '        \"id\": 177,\\n'\n",
            " '        \"title\": \"et placeat temporibus voluptas est tempora quos '\n",
            " 'quibusdam\",\\n'\n",
            " '        \"completed\": false\\n'\n",
            " '    },\\n'\n",
            " '    {\\n'\n",
            " '        \"userId\": 9,\\n'\n",
            " '        \"id\": 178,\\n'\n",
            " '        \"title\": \"nesciunt itaque commodi tempore\",\\n'\n",
            " '        \"completed\": true\\n'\n",
            " '    },\\n'\n",
            " '    {\\n'\n",
            " '        \"userId\": 9,\\n'\n",
            " '        \"id\": 179,\\n'\n",
            " '        \"title\": \"omnis consequuntur cupiditate impedit itaque ipsam quo\",\\n'\n",
            " '        \"completed\": true\\n'\n",
            " '    },\\n'\n",
            " '    {\\n'\n",
            " '        \"userId\": 9,\\n'\n",
            " '        \"id\": 180,\\n'\n",
            " '        \"title\": \"debitis nisi et dolorem repellat et\",\\n'\n",
            " '        \"completed\": true\\n'\n",
            " '    },\\n'\n",
            " '    {\\n'\n",
            " '        \"userId\": 10,\\n'\n",
            " '        \"id\": 181,\\n'\n",
            " '        \"title\": \"ut cupiditate sequi aliquam fuga maiores\",\\n'\n",
            " '        \"completed\": false\\n'\n",
            " '    },\\n'\n",
            " '    {\\n'\n",
            " '        \"userId\": 10,\\n'\n",
            " '        \"id\": 182,\\n'\n",
            " '        \"title\": \"inventore saepe cumque et aut illum enim\",\\n'\n",
            " '        \"completed\": true\\n'\n",
            " '    },\\n'\n",
            " '    {\\n'\n",
            " '        \"userId\": 10,\\n'\n",
            " '        \"id\": 183,\\n'\n",
            " '        \"title\": \"omnis nulla eum aliquam distinctio\",\\n'\n",
            " '        \"completed\": true\\n'\n",
            " '    },\\n'\n",
            " '    {\\n'\n",
            " '        \"userId\": 10,\\n'\n",
            " '        \"id\": 184,\\n'\n",
            " '        \"title\": \"molestias modi perferendis perspiciatis\",\\n'\n",
            " '        \"completed\": false\\n'\n",
            " '    },\\n'\n",
            " '    {\\n'\n",
            " '        \"userId\": 10,\\n'\n",
            " '        \"id\": 185,\\n'\n",
            " '        \"title\": \"voluptates dignissimos sed doloribus animi quaerat aut\",\\n'\n",
            " '        \"completed\": false\\n'\n",
            " '    },\\n'\n",
            " '    {\\n'\n",
            " '        \"userId\": 10,\\n'\n",
            " '        \"id\": 186,\\n'\n",
            " '        \"title\": \"explicabo odio est et\",\\n'\n",
            " '        \"completed\": false\\n'\n",
            " '    },\\n'\n",
            " '    {\\n'\n",
            " '        \"userId\": 10,\\n'\n",
            " '        \"id\": 187,\\n'\n",
            " '        \"title\": \"consequuntur animi possimus\",\\n'\n",
            " '        \"completed\": false\\n'\n",
            " '    },\\n'\n",
            " '    {\\n'\n",
            " '        \"userId\": 10,\\n'\n",
            " '        \"id\": 188,\\n'\n",
            " '        \"title\": \"vel non beatae est\",\\n'\n",
            " '        \"completed\": true\\n'\n",
            " '    },\\n'\n",
            " '    {\\n'\n",
            " '        \"userId\": 10,\\n'\n",
            " '        \"id\": 189,\\n'\n",
            " '        \"title\": \"culpa eius et voluptatem et\",\\n'\n",
            " '        \"completed\": true\\n'\n",
            " '    },\\n'\n",
            " '    {\\n'\n",
            " '        \"userId\": 10,\\n'\n",
            " '        \"id\": 190,\\n'\n",
            " '        \"title\": \"accusamus sint iusto et voluptatem exercitationem\",\\n'\n",
            " '        \"completed\": true\\n'\n",
            " '    },\\n'\n",
            " '    {\\n'\n",
            " '        \"userId\": 10,\\n'\n",
            " '        \"id\": 191,\\n'\n",
            " '        \"title\": \"temporibus atque distinctio omnis eius impedit tempore '\n",
            " 'molestias pariatur\",\\n'\n",
            " '        \"completed\": true\\n'\n",
            " '    },\\n'\n",
            " '    {\\n'\n",
            " '        \"userId\": 10,\\n'\n",
            " '        \"id\": 192,\\n'\n",
            " '        \"title\": \"ut quas possimus exercitationem sint voluptates\",\\n'\n",
            " '        \"completed\": false\\n'\n",
            " '    },\\n'\n",
            " '    {\\n'\n",
            " '        \"userId\": 10,\\n'\n",
            " '        \"id\": 193,\\n'\n",
            " '        \"title\": \"rerum debitis voluptatem qui eveniet tempora distinctio '\n",
            " 'a\",\\n'\n",
            " '        \"completed\": true\\n'\n",
            " '    },\\n'\n",
            " '    {\\n'\n",
            " '        \"userId\": 10,\\n'\n",
            " '        \"id\": 194,\\n'\n",
            " '        \"title\": \"sed ut vero sit molestiae\",\\n'\n",
            " '        \"completed\": false\\n'\n",
            " '    },\\n'\n",
            " '    {\\n'\n",
            " '        \"userId\": 10,\\n'\n",
            " '        \"id\": 195,\\n'\n",
            " '        \"title\": \"rerum ex veniam mollitia voluptatibus pariatur\",\\n'\n",
            " '        \"completed\": true\\n'\n",
            " '    },\\n'\n",
            " '    {\\n'\n",
            " '        \"userId\": 10,\\n'\n",
            " '        \"id\": 196,\\n'\n",
            " '        \"title\": \"consequuntur aut ut fugit similique\",\\n'\n",
            " '        \"completed\": true\\n'\n",
            " '    },\\n'\n",
            " '    {\\n'\n",
            " '        \"userId\": 10,\\n'\n",
            " '        \"id\": 197,\\n'\n",
            " '        \"title\": \"dignissimos quo nobis earum saepe\",\\n'\n",
            " '        \"completed\": true\\n'\n",
            " '    },\\n'\n",
            " '    {\\n'\n",
            " '        \"userId\": 10,\\n'\n",
            " '        \"id\": 198,\\n'\n",
            " '        \"title\": \"quis eius est sint explicabo\",\\n'\n",
            " '        \"completed\": true\\n'\n",
            " '    },\\n'\n",
            " '    {\\n'\n",
            " '        \"userId\": 10,\\n'\n",
            " '        \"id\": 199,\\n'\n",
            " '        \"title\": \"numquam repellendus a magnam\",\\n'\n",
            " '        \"completed\": true\\n'\n",
            " '    },\\n'\n",
            " '    {\\n'\n",
            " '        \"userId\": 10,\\n'\n",
            " '        \"id\": 200,\\n'\n",
            " '        \"title\": \"ipsam aperiam voluptates qui\",\\n'\n",
            " '        \"completed\": false\\n'\n",
            " '    }\\n'\n",
            " ']')\n"
          ],
          "name": "stdout"
        }
      ]
    },
    {
      "metadata": {
        "id": "QtiVBH7bFQjq",
        "colab_type": "code",
        "colab": {
          "base_uri": "https://localhost:8080/",
          "height": 36
        },
        "outputId": "2252e3ef-a8b7-4073-8a4f-124b9014fac6"
      },
      "cell_type": "code",
      "source": [
        "todos == response.json()\n"
      ],
      "execution_count": 145,
      "outputs": [
        {
          "output_type": "execute_result",
          "data": {
            "text/plain": [
              "True"
            ]
          },
          "metadata": {
            "tags": []
          },
          "execution_count": 145
        }
      ]
    },
    {
      "metadata": {
        "id": "dM0GUDSbJ_Y1",
        "colab_type": "text"
      },
      "cell_type": "markdown",
      "source": [
        "**FOOD FOR THOUGHTS**  try when you have some time \n",
        "Read a json file and loop through the data elements and get list of max completed todos\n"
      ]
    },
    {
      "metadata": {
        "id": "N8qztc1NJQYT",
        "colab_type": "code",
        "colab": {
          "base_uri": "https://localhost:8080/",
          "height": 92
        },
        "outputId": "3905e6d5-6974-4212-87fd-bbc05e67ac81"
      },
      "cell_type": "code",
      "source": [
        "todos_by_user = {}\n",
        "\n",
        "# Increment complete TODOs count for each user.\n",
        "for todo in todos:\n",
        "    if todo[\"completed\"]:\n",
        "        try:\n",
        "            # Increment the existing user's count.\n",
        "            todos_by_user[todo[\"userId\"]] += 1\n",
        "        except KeyError:\n",
        "            # This user has not been seen. Set their count to 1.\n",
        "            todos_by_user[todo[\"userId\"]] = 1\n",
        "\n",
        "# Create a sorted list of (userId, num_complete) pairs.\n",
        "\n",
        "print('This is unsorted list ',todos_by_user)\n",
        "top_users = sorted(todos_by_user.items(), \n",
        "                   key=lambda x: x[1], reverse=True)\n",
        "\n",
        "print('Thisis sorted list ',top_users)\n",
        "# Get the maximum number of complete TODOs.\n",
        "\n",
        "max_complete = top_users[0][1]\n",
        "print('this is the maximun complete',max_complete)\n",
        "\n",
        "# Create a list of all users who have completed\n",
        "# the maximum number of TODOs.\n",
        "\n",
        "users = []\n",
        "for user, num_complete in top_users:\n",
        "    if num_complete < max_complete:\n",
        "        break\n",
        "    users.append(str(user))\n",
        "\n",
        "max_users = \" and \".join(users)\n",
        "print(max_users)"
      ],
      "execution_count": 152,
      "outputs": [
        {
          "output_type": "stream",
          "text": [
            "This is unsorted list  {1: 11, 2: 8, 3: 7, 4: 6, 5: 12, 6: 6, 7: 9, 8: 11, 9: 8, 10: 12}\n",
            "Thisis sorted list  [(5, 12), (10, 12), (1, 11), (8, 11), (7, 9), (2, 8), (9, 8), (3, 7), (4, 6), (6, 6)]\n",
            "this is the maximun complete 12\n",
            "5 and 10\n"
          ],
          "name": "stdout"
        }
      ]
    },
    {
      "metadata": {
        "id": "rCdbcekELUDn",
        "colab_type": "text"
      },
      "cell_type": "markdown",
      "source": [
        "**HANDLING YAML files**"
      ]
    },
    {
      "metadata": {
        "id": "yR_DyClLLXb8",
        "colab_type": "code",
        "colab": {
          "base_uri": "https://localhost:8080/",
          "height": 36
        },
        "outputId": "d4202958-83aa-4059-c443-a2a8d6a271e0"
      },
      "cell_type": "code",
      "source": [
        "import yaml\n",
        "fileyaml = '/content/drive/My Drive/vibhawdrivepy/buildspec.yml'\n",
        "print(fileyaml)"
      ],
      "execution_count": 169,
      "outputs": [
        {
          "output_type": "stream",
          "text": [
            "/content/drive/My Drive/vibhawdrivepy/buildspec.yml\n"
          ],
          "name": "stdout"
        }
      ]
    },
    {
      "metadata": {
        "id": "W476YgjGLtCt",
        "colab_type": "code",
        "colab": {
          "base_uri": "https://localhost:8080/",
          "height": 55
        },
        "outputId": "761f4fda-b219-4e5d-8240-6d67810c4e1e"
      },
      "cell_type": "code",
      "source": [
        "with open(fileyaml, 'r') as ymlfile:\n",
        "  cfg = yaml.load(ymlfile)\n",
        "\n",
        "for section in cfg:\n",
        "  print(section)\n",
        "\n"
      ],
      "execution_count": 155,
      "outputs": [
        {
          "output_type": "stream",
          "text": [
            "version\n",
            "phases\n"
          ],
          "name": "stdout"
        }
      ]
    },
    {
      "metadata": {
        "id": "uTdzp6fsMEn7",
        "colab_type": "code",
        "colab": {
          "base_uri": "https://localhost:8080/",
          "height": 112
        },
        "outputId": "4eb06a4c-1aab-491c-9ea5-69652fe81c12"
      },
      "cell_type": "code",
      "source": [
        "print(cfg['phases'])\n",
        "print(cfg['phases']['install'])\n",
        "print(cfg['phases']['build'])\n",
        "print(cfg['phases']['build']['commands'])\n"
      ],
      "execution_count": 173,
      "outputs": [
        {
          "output_type": "stream",
          "text": [
            "{'install': {'commands': ['echo \"Nothing to install.\"']}, 'build': {'commands': ['echo Build started on `date`', 'cd lambda', 'python ../zip.py ../Count_Intent.zip count_intent.py bibot_config.py bibot_helpers.py bibot_userexits.py', 'python ../zip.py ../Top_Intent.zip top_intent.py bibot_config.py bibot_helpers.py bibot_userexits.py', 'python ../zip.py ../Compare_Intent.zip compare_intent.py bibot_config.py bibot_helpers.py bibot_userexits.py', 'python ../zip.py ../Refresh_Intent.zip refresh_intent.py bibot_config.py bibot_helpers.py bibot_userexits.py', 'python ../zip.py ../Reset_Intent.zip reset_intent.py bibot_config.py bibot_helpers.py bibot_userexits.py', 'python ../zip.py ../Hello_Intent.zip hello_intent.py bibot_config.py bibot_helpers.py bibot_userexits.py', 'python ../zip.py ../Goodbye_Intent.zip goodbye_intent.py bibot_config.py bibot_helpers.py bibot_userexits.py', 'python ../zip.py ../Switch_Intent.zip switch_intent.py bibot_config.py bibot_helpers.py bibot_userexits.py count_intent.py top_intent.py', 'cd ..', 'ls -l *.zip', 'bash delete.sh', 'bash build-db.sh', 'bash build-bot.sh']}, 'post_build': {'commands': ['echo Build completed on `date`']}}\n",
            "{'commands': ['echo \"Nothing to install.\"']}\n",
            "{'commands': ['echo Build started on `date`', 'cd lambda', 'python ../zip.py ../Count_Intent.zip count_intent.py bibot_config.py bibot_helpers.py bibot_userexits.py', 'python ../zip.py ../Top_Intent.zip top_intent.py bibot_config.py bibot_helpers.py bibot_userexits.py', 'python ../zip.py ../Compare_Intent.zip compare_intent.py bibot_config.py bibot_helpers.py bibot_userexits.py', 'python ../zip.py ../Refresh_Intent.zip refresh_intent.py bibot_config.py bibot_helpers.py bibot_userexits.py', 'python ../zip.py ../Reset_Intent.zip reset_intent.py bibot_config.py bibot_helpers.py bibot_userexits.py', 'python ../zip.py ../Hello_Intent.zip hello_intent.py bibot_config.py bibot_helpers.py bibot_userexits.py', 'python ../zip.py ../Goodbye_Intent.zip goodbye_intent.py bibot_config.py bibot_helpers.py bibot_userexits.py', 'python ../zip.py ../Switch_Intent.zip switch_intent.py bibot_config.py bibot_helpers.py bibot_userexits.py count_intent.py top_intent.py', 'cd ..', 'ls -l *.zip', 'bash delete.sh', 'bash build-db.sh', 'bash build-bot.sh']}\n",
            "['echo Build started on `date`', 'cd lambda', 'python ../zip.py ../Count_Intent.zip count_intent.py bibot_config.py bibot_helpers.py bibot_userexits.py', 'python ../zip.py ../Top_Intent.zip top_intent.py bibot_config.py bibot_helpers.py bibot_userexits.py', 'python ../zip.py ../Compare_Intent.zip compare_intent.py bibot_config.py bibot_helpers.py bibot_userexits.py', 'python ../zip.py ../Refresh_Intent.zip refresh_intent.py bibot_config.py bibot_helpers.py bibot_userexits.py', 'python ../zip.py ../Reset_Intent.zip reset_intent.py bibot_config.py bibot_helpers.py bibot_userexits.py', 'python ../zip.py ../Hello_Intent.zip hello_intent.py bibot_config.py bibot_helpers.py bibot_userexits.py', 'python ../zip.py ../Goodbye_Intent.zip goodbye_intent.py bibot_config.py bibot_helpers.py bibot_userexits.py', 'python ../zip.py ../Switch_Intent.zip switch_intent.py bibot_config.py bibot_helpers.py bibot_userexits.py count_intent.py top_intent.py', 'cd ..', 'ls -l *.zip', 'bash delete.sh', 'bash build-db.sh', 'bash build-bot.sh']\n"
          ],
          "name": "stdout"
        }
      ]
    },
    {
      "metadata": {
        "id": "5_6QVXLyMy4-",
        "colab_type": "code",
        "colab": {
          "base_uri": "https://localhost:8080/",
          "height": 112
        },
        "outputId": "44d84a80-0788-44dc-95ee-8f8a953dee94"
      },
      "cell_type": "code",
      "source": [
        "stream = open(fileyaml, \"r\")\n",
        "docs = yaml.load_all(stream)\n",
        "for doc in docs:\n",
        "    for k,v in doc.items():\n",
        "        print(k, \"->\", v)\n",
        "    print(\"\\n\")"
      ],
      "execution_count": 165,
      "outputs": [
        {
          "output_type": "stream",
          "text": [
            "version -> 0.2\n",
            "phases -> {'install': {'commands': ['echo \"Nothing to install.\"']}, 'build': {'commands': ['echo Build started on `date`', 'cd lambda', 'python ../zip.py ../Count_Intent.zip count_intent.py bibot_config.py bibot_helpers.py bibot_userexits.py', 'python ../zip.py ../Top_Intent.zip top_intent.py bibot_config.py bibot_helpers.py bibot_userexits.py', 'python ../zip.py ../Compare_Intent.zip compare_intent.py bibot_config.py bibot_helpers.py bibot_userexits.py', 'python ../zip.py ../Refresh_Intent.zip refresh_intent.py bibot_config.py bibot_helpers.py bibot_userexits.py', 'python ../zip.py ../Reset_Intent.zip reset_intent.py bibot_config.py bibot_helpers.py bibot_userexits.py', 'python ../zip.py ../Hello_Intent.zip hello_intent.py bibot_config.py bibot_helpers.py bibot_userexits.py', 'python ../zip.py ../Goodbye_Intent.zip goodbye_intent.py bibot_config.py bibot_helpers.py bibot_userexits.py', 'python ../zip.py ../Switch_Intent.zip switch_intent.py bibot_config.py bibot_helpers.py bibot_userexits.py count_intent.py top_intent.py', 'cd ..', 'ls -l *.zip', 'bash delete.sh', 'bash build-db.sh', 'bash build-bot.sh']}, 'post_build': {'commands': ['echo Build completed on `date`']}}\n",
            "\n",
            "\n"
          ],
          "name": "stdout"
        }
      ]
    },
    {
      "metadata": {
        "id": "ktFoegtVPYZT",
        "colab_type": "code",
        "colab": {}
      },
      "cell_type": "code",
      "source": [
        "data = {'a list': [1, 42, 3.141, 1337, 'help', u'$'],\n",
        "        'a string': 'blaetc',\n",
        "        'another dict': {'foot': 'ball',\n",
        "                         'key': 'value',\n",
        "                         'the answer': 42}}"
      ],
      "execution_count": 0,
      "outputs": []
    },
    {
      "metadata": {
        "id": "rdVfJdAuPmsN",
        "colab_type": "code",
        "colab": {}
      },
      "cell_type": "code",
      "source": [
        "with open('/content/drive/My Drive/vibhawdrivepy/datatest.yaml', 'w', encoding='utf8') as outfile:\n",
        "    yaml.dump(data, outfile, default_flow_style=False, allow_unicode=True)\n"
      ],
      "execution_count": 0,
      "outputs": []
    },
    {
      "metadata": {
        "id": "un8sZYtHP2SE",
        "colab_type": "code",
        "colab": {}
      },
      "cell_type": "code",
      "source": [
        "with open(\"/content/drive/My Drive/vibhawdrivepy/datatest.yaml\", 'r') as stream:\n",
        "    data_loaded = yaml.load(stream)"
      ],
      "execution_count": 0,
      "outputs": []
    },
    {
      "metadata": {
        "id": "5zpFHvZRP8AR",
        "colab_type": "code",
        "colab": {
          "base_uri": "https://localhost:8080/",
          "height": 36
        },
        "outputId": "c1583b2e-16dc-41de-f544-feb3d1abc2fa"
      },
      "cell_type": "code",
      "source": [
        "print(data == data_loaded)"
      ],
      "execution_count": 178,
      "outputs": [
        {
          "output_type": "stream",
          "text": [
            "True\n"
          ],
          "name": "stdout"
        }
      ]
    }
  ]
}